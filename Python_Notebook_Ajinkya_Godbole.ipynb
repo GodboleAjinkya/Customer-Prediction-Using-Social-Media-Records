{
 "cells": [
  {
   "cell_type": "code",
   "execution_count": 1,
   "id": "2a73bb8a",
   "metadata": {},
   "outputs": [],
   "source": [
    "import numpy as np\n",
    "import pandas as pd\n",
    "import matplotlib.pyplot as plt\n",
    "import seaborn as sns"
   ]
  },
  {
   "cell_type": "code",
   "execution_count": 2,
   "id": "895e50ce",
   "metadata": {},
   "outputs": [
    {
     "data": {
      "text/html": [
       "<div>\n",
       "<style scoped>\n",
       "    .dataframe tbody tr th:only-of-type {\n",
       "        vertical-align: middle;\n",
       "    }\n",
       "\n",
       "    .dataframe tbody tr th {\n",
       "        vertical-align: top;\n",
       "    }\n",
       "\n",
       "    .dataframe thead th {\n",
       "        text-align: right;\n",
       "    }\n",
       "</style>\n",
       "<table border=\"1\" class=\"dataframe\">\n",
       "  <thead>\n",
       "    <tr style=\"text-align: right;\">\n",
       "      <th></th>\n",
       "      <th>UserID</th>\n",
       "      <th>Taken_product</th>\n",
       "      <th>Yearly_avg_view_on_travel_page</th>\n",
       "      <th>preferred_device</th>\n",
       "      <th>total_likes_on_outstation_checkin_given</th>\n",
       "      <th>yearly_avg_Outstation_checkins</th>\n",
       "      <th>member_in_family</th>\n",
       "      <th>preferred_location_type</th>\n",
       "      <th>Yearly_avg_comment_on_travel_page</th>\n",
       "      <th>total_likes_on_outofstation_checkin_received</th>\n",
       "      <th>week_since_last_outstation_checkin</th>\n",
       "      <th>following_company_page</th>\n",
       "      <th>montly_avg_comment_on_company_page</th>\n",
       "      <th>working_flag</th>\n",
       "      <th>travelling_network_rating</th>\n",
       "      <th>Adult_flag</th>\n",
       "      <th>Daily_Avg_mins_spend_on_traveling_page</th>\n",
       "    </tr>\n",
       "  </thead>\n",
       "  <tbody>\n",
       "    <tr>\n",
       "      <th>0</th>\n",
       "      <td>1000001</td>\n",
       "      <td>Yes</td>\n",
       "      <td>307.0</td>\n",
       "      <td>iOS and Android</td>\n",
       "      <td>38570.0</td>\n",
       "      <td>1</td>\n",
       "      <td>2</td>\n",
       "      <td>Financial</td>\n",
       "      <td>94.0</td>\n",
       "      <td>5993</td>\n",
       "      <td>8</td>\n",
       "      <td>Yes</td>\n",
       "      <td>11</td>\n",
       "      <td>No</td>\n",
       "      <td>1</td>\n",
       "      <td>0</td>\n",
       "      <td>8</td>\n",
       "    </tr>\n",
       "    <tr>\n",
       "      <th>1</th>\n",
       "      <td>1000002</td>\n",
       "      <td>No</td>\n",
       "      <td>367.0</td>\n",
       "      <td>iOS</td>\n",
       "      <td>9765.0</td>\n",
       "      <td>1</td>\n",
       "      <td>1</td>\n",
       "      <td>Financial</td>\n",
       "      <td>61.0</td>\n",
       "      <td>5130</td>\n",
       "      <td>1</td>\n",
       "      <td>No</td>\n",
       "      <td>23</td>\n",
       "      <td>Yes</td>\n",
       "      <td>4</td>\n",
       "      <td>1</td>\n",
       "      <td>10</td>\n",
       "    </tr>\n",
       "    <tr>\n",
       "      <th>2</th>\n",
       "      <td>1000003</td>\n",
       "      <td>Yes</td>\n",
       "      <td>277.0</td>\n",
       "      <td>iOS and Android</td>\n",
       "      <td>48055.0</td>\n",
       "      <td>1</td>\n",
       "      <td>2</td>\n",
       "      <td>Other</td>\n",
       "      <td>92.0</td>\n",
       "      <td>2090</td>\n",
       "      <td>6</td>\n",
       "      <td>Yes</td>\n",
       "      <td>15</td>\n",
       "      <td>No</td>\n",
       "      <td>2</td>\n",
       "      <td>0</td>\n",
       "      <td>7</td>\n",
       "    </tr>\n",
       "    <tr>\n",
       "      <th>3</th>\n",
       "      <td>1000004</td>\n",
       "      <td>No</td>\n",
       "      <td>247.0</td>\n",
       "      <td>iOS</td>\n",
       "      <td>48720.0</td>\n",
       "      <td>1</td>\n",
       "      <td>4</td>\n",
       "      <td>Financial</td>\n",
       "      <td>56.0</td>\n",
       "      <td>2909</td>\n",
       "      <td>1</td>\n",
       "      <td>Yes</td>\n",
       "      <td>11</td>\n",
       "      <td>No</td>\n",
       "      <td>3</td>\n",
       "      <td>0</td>\n",
       "      <td>8</td>\n",
       "    </tr>\n",
       "    <tr>\n",
       "      <th>4</th>\n",
       "      <td>1000005</td>\n",
       "      <td>No</td>\n",
       "      <td>202.0</td>\n",
       "      <td>iOS and Android</td>\n",
       "      <td>20685.0</td>\n",
       "      <td>1</td>\n",
       "      <td>1</td>\n",
       "      <td>Medical</td>\n",
       "      <td>40.0</td>\n",
       "      <td>3468</td>\n",
       "      <td>9</td>\n",
       "      <td>No</td>\n",
       "      <td>12</td>\n",
       "      <td>No</td>\n",
       "      <td>4</td>\n",
       "      <td>1</td>\n",
       "      <td>6</td>\n",
       "    </tr>\n",
       "  </tbody>\n",
       "</table>\n",
       "</div>"
      ],
      "text/plain": [
       "    UserID Taken_product  Yearly_avg_view_on_travel_page preferred_device  \\\n",
       "0  1000001           Yes                           307.0  iOS and Android   \n",
       "1  1000002            No                           367.0              iOS   \n",
       "2  1000003           Yes                           277.0  iOS and Android   \n",
       "3  1000004            No                           247.0              iOS   \n",
       "4  1000005            No                           202.0  iOS and Android   \n",
       "\n",
       "   total_likes_on_outstation_checkin_given yearly_avg_Outstation_checkins  \\\n",
       "0                                  38570.0                              1   \n",
       "1                                   9765.0                              1   \n",
       "2                                  48055.0                              1   \n",
       "3                                  48720.0                              1   \n",
       "4                                  20685.0                              1   \n",
       "\n",
       "  member_in_family preferred_location_type  Yearly_avg_comment_on_travel_page  \\\n",
       "0                2               Financial                               94.0   \n",
       "1                1               Financial                               61.0   \n",
       "2                2                   Other                               92.0   \n",
       "3                4               Financial                               56.0   \n",
       "4                1                 Medical                               40.0   \n",
       "\n",
       "   total_likes_on_outofstation_checkin_received  \\\n",
       "0                                          5993   \n",
       "1                                          5130   \n",
       "2                                          2090   \n",
       "3                                          2909   \n",
       "4                                          3468   \n",
       "\n",
       "   week_since_last_outstation_checkin following_company_page  \\\n",
       "0                                   8                    Yes   \n",
       "1                                   1                     No   \n",
       "2                                   6                    Yes   \n",
       "3                                   1                    Yes   \n",
       "4                                   9                     No   \n",
       "\n",
       "   montly_avg_comment_on_company_page working_flag  travelling_network_rating  \\\n",
       "0                                  11           No                          1   \n",
       "1                                  23          Yes                          4   \n",
       "2                                  15           No                          2   \n",
       "3                                  11           No                          3   \n",
       "4                                  12           No                          4   \n",
       "\n",
       "   Adult_flag  Daily_Avg_mins_spend_on_traveling_page  \n",
       "0           0                                       8  \n",
       "1           1                                      10  \n",
       "2           0                                       7  \n",
       "3           0                                       8  \n",
       "4           1                                       6  "
      ]
     },
     "execution_count": 2,
     "metadata": {},
     "output_type": "execute_result"
    }
   ],
   "source": [
    "social_record = pd.read_csv(\"Social Media Data for DSBA.csv\")\n",
    "social_record.head()"
   ]
  },
  {
   "cell_type": "code",
   "execution_count": 3,
   "id": "67248342",
   "metadata": {},
   "outputs": [
    {
     "name": "stdout",
     "output_type": "stream",
     "text": [
      "<class 'pandas.core.frame.DataFrame'>\n",
      "RangeIndex: 11760 entries, 0 to 11759\n",
      "Data columns (total 17 columns):\n",
      " #   Column                                        Non-Null Count  Dtype  \n",
      "---  ------                                        --------------  -----  \n",
      " 0   UserID                                        11760 non-null  int64  \n",
      " 1   Taken_product                                 11760 non-null  object \n",
      " 2   Yearly_avg_view_on_travel_page                11179 non-null  float64\n",
      " 3   preferred_device                              11707 non-null  object \n",
      " 4   total_likes_on_outstation_checkin_given       11379 non-null  float64\n",
      " 5   yearly_avg_Outstation_checkins                11685 non-null  object \n",
      " 6   member_in_family                              11760 non-null  object \n",
      " 7   preferred_location_type                       11729 non-null  object \n",
      " 8   Yearly_avg_comment_on_travel_page             11554 non-null  float64\n",
      " 9   total_likes_on_outofstation_checkin_received  11760 non-null  int64  \n",
      " 10  week_since_last_outstation_checkin            11760 non-null  int64  \n",
      " 11  following_company_page                        11657 non-null  object \n",
      " 12  montly_avg_comment_on_company_page            11760 non-null  int64  \n",
      " 13  working_flag                                  11760 non-null  object \n",
      " 14  travelling_network_rating                     11760 non-null  int64  \n",
      " 15  Adult_flag                                    11760 non-null  int64  \n",
      " 16  Daily_Avg_mins_spend_on_traveling_page        11760 non-null  int64  \n",
      "dtypes: float64(3), int64(7), object(7)\n",
      "memory usage: 1.5+ MB\n"
     ]
    }
   ],
   "source": [
    "social_record.info()"
   ]
  },
  {
   "cell_type": "code",
   "execution_count": 4,
   "id": "9bb13e75",
   "metadata": {},
   "outputs": [
    {
     "data": {
      "text/plain": [
       "UserID                                            0\n",
       "Taken_product                                     0\n",
       "Yearly_avg_view_on_travel_page                  581\n",
       "preferred_device                                 53\n",
       "total_likes_on_outstation_checkin_given         381\n",
       "yearly_avg_Outstation_checkins                   75\n",
       "member_in_family                                  0\n",
       "preferred_location_type                          31\n",
       "Yearly_avg_comment_on_travel_page               206\n",
       "total_likes_on_outofstation_checkin_received      0\n",
       "week_since_last_outstation_checkin                0\n",
       "following_company_page                          103\n",
       "montly_avg_comment_on_company_page                0\n",
       "working_flag                                      0\n",
       "travelling_network_rating                         0\n",
       "Adult_flag                                        0\n",
       "Daily_Avg_mins_spend_on_traveling_page            0\n",
       "dtype: int64"
      ]
     },
     "execution_count": 4,
     "metadata": {},
     "output_type": "execute_result"
    }
   ],
   "source": [
    "social_record.isnull().sum()"
   ]
  },
  {
   "cell_type": "code",
   "execution_count": 5,
   "id": "c74ad3af",
   "metadata": {},
   "outputs": [],
   "source": [
    "social_record_sub = [\"member_in_family\",\"preferred_location_type\",\"following_company_page\",\"working_flag\",\"travelling_network_rating\",\"Adult_flag\"]"
   ]
  },
  {
   "cell_type": "markdown",
   "id": "6c094b07",
   "metadata": {},
   "source": [
    "#### Members in Family"
   ]
  },
  {
   "cell_type": "code",
   "execution_count": 6,
   "id": "f6ddc069",
   "metadata": {},
   "outputs": [
    {
     "data": {
      "text/plain": [
       "array(['2', '1', '4', 'Three', '3', '5', '10'], dtype=object)"
      ]
     },
     "execution_count": 6,
     "metadata": {},
     "output_type": "execute_result"
    }
   ],
   "source": [
    "social_record[\"member_in_family\"].unique()"
   ]
  },
  {
   "cell_type": "code",
   "execution_count": 7,
   "id": "cc594099",
   "metadata": {},
   "outputs": [],
   "source": [
    "## Cleaning the variable\n",
    "social_record[\"member_in_family\"] = social_record[\"member_in_family\"].replace(\"Three\",\"3\")\n",
    "social_record[\"member_in_family\"] = social_record[\"member_in_family\"].astype(\"int\")"
   ]
  },
  {
   "cell_type": "code",
   "execution_count": 8,
   "id": "0ceff136",
   "metadata": {},
   "outputs": [
    {
     "data": {
      "text/plain": [
       "<AxesSubplot:xlabel='member_in_family', ylabel='count'>"
      ]
     },
     "execution_count": 8,
     "metadata": {},
     "output_type": "execute_result"
    },
    {
     "data": {
      "image/png": "[encoded data removed]",
      "text/plain": [
       "<Figure size 864x576 with 1 Axes>"
      ]
     },
     "metadata": {
      "needs_background": "light"
     },
     "output_type": "display_data"
    }
   ],
   "source": [
    "plt.rcParams[\"figure.figsize\"] = (12,8)\n",
    "sns.countplot(x=social_record[\"member_in_family\"],hue=social_record[\"Taken_product\"],order=social_record[\"member_in_family\"].value_counts().index)"
   ]
  },
  {
   "cell_type": "code",
   "execution_count": 9,
   "id": "61463f62",
   "metadata": {},
   "outputs": [],
   "source": [
    "def category_sales(col,data,target):\n",
    "    sale_location = data.groupby(col).sum()[target]\n",
    "    percent_sale_location = pd.DataFrame(sale_location)\n",
    "    percent_sale_location[\"Total_sale\"] = data[col].value_counts()\n",
    "    percent_sale_location[\"Market_share\"] = percent_sale_location[target]/percent_sale_location[\"Total_sale\"]\n",
    "    return percent_sale_location"
   ]
  },
  {
   "cell_type": "code",
   "execution_count": 10,
   "id": "d4fe5d2a",
   "metadata": {},
   "outputs": [],
   "source": [
    "social_record[\"Taken_product\"] = social_record[\"Taken_product\"].replace({\"Yes\":1,\"No\":0})"
   ]
  },
  {
   "cell_type": "code",
   "execution_count": 11,
   "id": "790410a4",
   "metadata": {},
   "outputs": [
    {
     "data": {
      "text/html": [
       "<div>\n",
       "<style scoped>\n",
       "    .dataframe tbody tr th:only-of-type {\n",
       "        vertical-align: middle;\n",
       "    }\n",
       "\n",
       "    .dataframe tbody tr th {\n",
       "        vertical-align: top;\n",
       "    }\n",
       "\n",
       "    .dataframe thead th {\n",
       "        text-align: right;\n",
       "    }\n",
       "</style>\n",
       "<table border=\"1\" class=\"dataframe\">\n",
       "  <thead>\n",
       "    <tr style=\"text-align: right;\">\n",
       "      <th></th>\n",
       "      <th>Taken_product</th>\n",
       "      <th>Total_sale</th>\n",
       "      <th>Market_share</th>\n",
       "    </tr>\n",
       "    <tr>\n",
       "      <th>member_in_family</th>\n",
       "      <th></th>\n",
       "      <th></th>\n",
       "      <th></th>\n",
       "    </tr>\n",
       "  </thead>\n",
       "  <tbody>\n",
       "    <tr>\n",
       "      <th>1</th>\n",
       "      <td>247</td>\n",
       "      <td>1349</td>\n",
       "      <td>0.183099</td>\n",
       "    </tr>\n",
       "    <tr>\n",
       "      <th>2</th>\n",
       "      <td>352</td>\n",
       "      <td>2256</td>\n",
       "      <td>0.156028</td>\n",
       "    </tr>\n",
       "    <tr>\n",
       "      <th>3</th>\n",
       "      <td>792</td>\n",
       "      <td>4576</td>\n",
       "      <td>0.173077</td>\n",
       "    </tr>\n",
       "    <tr>\n",
       "      <th>4</th>\n",
       "      <td>464</td>\n",
       "      <td>3184</td>\n",
       "      <td>0.145729</td>\n",
       "    </tr>\n",
       "    <tr>\n",
       "      <th>5</th>\n",
       "      <td>40</td>\n",
       "      <td>384</td>\n",
       "      <td>0.104167</td>\n",
       "    </tr>\n",
       "    <tr>\n",
       "      <th>10</th>\n",
       "      <td>1</td>\n",
       "      <td>11</td>\n",
       "      <td>0.090909</td>\n",
       "    </tr>\n",
       "  </tbody>\n",
       "</table>\n",
       "</div>"
      ],
      "text/plain": [
       "                  Taken_product  Total_sale  Market_share\n",
       "member_in_family                                         \n",
       "1                           247        1349      0.183099\n",
       "2                           352        2256      0.156028\n",
       "3                           792        4576      0.173077\n",
       "4                           464        3184      0.145729\n",
       "5                            40         384      0.104167\n",
       "10                            1          11      0.090909"
      ]
     },
     "execution_count": 11,
     "metadata": {},
     "output_type": "execute_result"
    }
   ],
   "source": [
    "category_sales(col=\"member_in_family\",data=social_record,target=\"Taken_product\")"
   ]
  },
  {
   "cell_type": "code",
   "execution_count": 12,
   "id": "8cf2bc35",
   "metadata": {},
   "outputs": [],
   "source": [
    "social_record[\"member_in_family\"] = social_record[\"member_in_family\"].replace(10,5)"
   ]
  },
  {
   "cell_type": "markdown",
   "id": "832b12b7",
   "metadata": {},
   "source": [
    "#### Preferred Location Type"
   ]
  },
  {
   "cell_type": "code",
   "execution_count": 13,
   "id": "b0511fcf",
   "metadata": {},
   "outputs": [],
   "source": [
    "## Cleaning the variable\n",
    "social_record[\"preferred_location_type\"] = social_record[\"preferred_location_type\"].fillna(social_record[\"preferred_location_type\"].mode()[0])"
   ]
  },
  {
   "cell_type": "code",
   "execution_count": 14,
   "id": "ab108bb2",
   "metadata": {},
   "outputs": [
    {
     "data": {
      "text/plain": [
       "<AxesSubplot:xlabel='count', ylabel='preferred_location_type'>"
      ]
     },
     "execution_count": 14,
     "metadata": {},
     "output_type": "execute_result"
    },
    {
     "data": {
      "image/png": "[encoded data removed]",
      "text/plain": [
       "<Figure size 864x576 with 1 Axes>"
      ]
     },
     "metadata": {
      "needs_background": "light"
     },
     "output_type": "display_data"
    }
   ],
   "source": [
    "sns.countplot(y=social_record[\"preferred_location_type\"],order = social_record[\"preferred_location_type\"].value_counts().index)"
   ]
  },
  {
   "cell_type": "code",
   "execution_count": 15,
   "id": "d962034d",
   "metadata": {},
   "outputs": [],
   "source": [
    "dict_preferred_location = {\"Tour  Travel\":\"Tour and Travel\",\"Game\":\"Entertainment\",\"Movie\":\"Entertainment\",\"OTT\":\"Entertainment\",\"Social media\": \"Entertainment\",\"Beach\":\"Tour and Travel\",\"Big Cities\":\"Tour and Travel\",\"Historical site\":\"Tour and Travel\",\"Trekking\":\"Tour and Travel\",\"Hill Stations\":\"Tour and Travel\"}\n",
    "social_record[\"preferred_location_type\"] = social_record[\"preferred_location_type\"].replace(dict_preferred_location)"
   ]
  },
  {
   "cell_type": "code",
   "execution_count": 16,
   "id": "d8918b70",
   "metadata": {},
   "outputs": [
    {
     "data": {
      "text/plain": [
       "<AxesSubplot:xlabel='count', ylabel='preferred_location_type'>"
      ]
     },
     "execution_count": 16,
     "metadata": {},
     "output_type": "execute_result"
    },
    {
     "data": {
      "image/png": "[encoded data removed]",
      "text/plain": [
       "<Figure size 864x576 with 1 Axes>"
      ]
     },
     "metadata": {
      "needs_background": "light"
     },
     "output_type": "display_data"
    }
   ],
   "source": [
    "sns.countplot(y=social_record[\"preferred_location_type\"],order = social_record[\"preferred_location_type\"].value_counts().index)"
   ]
  },
  {
   "cell_type": "code",
   "execution_count": 17,
   "id": "7e0378be",
   "metadata": {},
   "outputs": [
    {
     "data": {
      "text/plain": [
       "<AxesSubplot:xlabel='count', ylabel='preferred_location_type'>"
      ]
     },
     "execution_count": 17,
     "metadata": {},
     "output_type": "execute_result"
    },
    {
     "data": {
      "image/png": "[encoded data removed]",
      "text/plain": [
       "<Figure size 864x576 with 1 Axes>"
      ]
     },
     "metadata": {
      "needs_background": "light"
     },
     "output_type": "display_data"
    }
   ],
   "source": [
    "sns.countplot(y=social_record[\"preferred_location_type\"],hue=social_record[\"Taken_product\"],order = social_record[\"preferred_location_type\"].value_counts().index)"
   ]
  },
  {
   "cell_type": "code",
   "execution_count": 18,
   "id": "ec0d0c3b",
   "metadata": {},
   "outputs": [
    {
     "data": {
      "text/html": [
       "<div>\n",
       "<style scoped>\n",
       "    .dataframe tbody tr th:only-of-type {\n",
       "        vertical-align: middle;\n",
       "    }\n",
       "\n",
       "    .dataframe tbody tr th {\n",
       "        vertical-align: top;\n",
       "    }\n",
       "\n",
       "    .dataframe thead th {\n",
       "        text-align: right;\n",
       "    }\n",
       "</style>\n",
       "<table border=\"1\" class=\"dataframe\">\n",
       "  <thead>\n",
       "    <tr style=\"text-align: right;\">\n",
       "      <th></th>\n",
       "      <th>Taken_product</th>\n",
       "      <th>Total_sale</th>\n",
       "      <th>Market_share</th>\n",
       "    </tr>\n",
       "    <tr>\n",
       "      <th>preferred_location_type</th>\n",
       "      <th></th>\n",
       "      <th></th>\n",
       "      <th></th>\n",
       "    </tr>\n",
       "  </thead>\n",
       "  <tbody>\n",
       "    <tr>\n",
       "      <th>Entertainment</th>\n",
       "      <td>268</td>\n",
       "      <td>1173</td>\n",
       "      <td>0.228474</td>\n",
       "    </tr>\n",
       "    <tr>\n",
       "      <th>Financial</th>\n",
       "      <td>354</td>\n",
       "      <td>2409</td>\n",
       "      <td>0.146949</td>\n",
       "    </tr>\n",
       "    <tr>\n",
       "      <th>Medical</th>\n",
       "      <td>252</td>\n",
       "      <td>1845</td>\n",
       "      <td>0.136585</td>\n",
       "    </tr>\n",
       "    <tr>\n",
       "      <th>Other</th>\n",
       "      <td>87</td>\n",
       "      <td>643</td>\n",
       "      <td>0.135303</td>\n",
       "    </tr>\n",
       "    <tr>\n",
       "      <th>Tour and Travel</th>\n",
       "      <td>935</td>\n",
       "      <td>5690</td>\n",
       "      <td>0.164323</td>\n",
       "    </tr>\n",
       "  </tbody>\n",
       "</table>\n",
       "</div>"
      ],
      "text/plain": [
       "                         Taken_product  Total_sale  Market_share\n",
       "preferred_location_type                                         \n",
       "Entertainment                      268        1173      0.228474\n",
       "Financial                          354        2409      0.146949\n",
       "Medical                            252        1845      0.136585\n",
       "Other                               87         643      0.135303\n",
       "Tour and Travel                    935        5690      0.164323"
      ]
     },
     "execution_count": 18,
     "metadata": {},
     "output_type": "execute_result"
    }
   ],
   "source": [
    "category_sales(col=\"preferred_location_type\",data=social_record,target=\"Taken_product\")"
   ]
  },
  {
   "cell_type": "markdown",
   "id": "125be622",
   "metadata": {},
   "source": [
    "#### Following the Company Page"
   ]
  },
  {
   "cell_type": "code",
   "execution_count": 19,
   "id": "f87a9370",
   "metadata": {},
   "outputs": [
    {
     "data": {
      "text/plain": [
       "array(['Yes', 'No', nan, '1', '0'], dtype=object)"
      ]
     },
     "execution_count": 19,
     "metadata": {},
     "output_type": "execute_result"
    }
   ],
   "source": [
    "social_record[\"following_company_page\"].unique()"
   ]
  },
  {
   "cell_type": "code",
   "execution_count": 20,
   "id": "1c3d3d84",
   "metadata": {},
   "outputs": [],
   "source": [
    "## Cleaning the variable\n",
    "social_record[\"following_company_page\"] = social_record[\"following_company_page\"].fillna(\"No\")"
   ]
  },
  {
   "cell_type": "code",
   "execution_count": 21,
   "id": "8a7ca6c1",
   "metadata": {},
   "outputs": [],
   "source": [
    "social_record[\"following_company_page\"] = social_record[\"following_company_page\"].replace({\"Yes\":1,\"No\":0,\"1\":1,\"0\":0})"
   ]
  },
  {
   "cell_type": "code",
   "execution_count": 22,
   "id": "650bcbb5",
   "metadata": {},
   "outputs": [
    {
     "data": {
      "text/plain": [
       "<AxesSubplot:xlabel='following_company_page', ylabel='count'>"
      ]
     },
     "execution_count": 22,
     "metadata": {},
     "output_type": "execute_result"
    },
    {
     "data": {
      "image/png": "[encoded data removed]",
      "text/plain": [
       "<Figure size 864x576 with 1 Axes>"
      ]
     },
     "metadata": {
      "needs_background": "light"
     },
     "output_type": "display_data"
    }
   ],
   "source": [
    "sns.countplot(x=social_record[\"following_company_page\"],hue=social_record[\"Taken_product\"])"
   ]
  },
  {
   "cell_type": "code",
   "execution_count": 23,
   "id": "e8ffcb67",
   "metadata": {},
   "outputs": [
    {
     "data": {
      "text/plain": [
       "0    0.719643\n",
       "1    0.280357\n",
       "Name: following_company_page, dtype: float64"
      ]
     },
     "execution_count": 23,
     "metadata": {},
     "output_type": "execute_result"
    }
   ],
   "source": [
    "social_record[\"following_company_page\"].value_counts(normalize=True)"
   ]
  },
  {
   "cell_type": "code",
   "execution_count": 24,
   "id": "e61a7bd0",
   "metadata": {},
   "outputs": [
    {
     "data": {
      "text/plain": [
       "following_company_page\n",
       "0    0.105164\n",
       "1    0.305126\n",
       "Name: Taken_product, dtype: float64"
      ]
     },
     "execution_count": 24,
     "metadata": {},
     "output_type": "execute_result"
    }
   ],
   "source": [
    "social_record.groupby(\"following_company_page\").mean()[\"Taken_product\"]"
   ]
  },
  {
   "cell_type": "markdown",
   "id": "9698e657",
   "metadata": {},
   "source": [
    "#### Working Flag"
   ]
  },
  {
   "cell_type": "code",
   "execution_count": 25,
   "id": "b89330b3",
   "metadata": {},
   "outputs": [
    {
     "data": {
      "text/plain": [
       "array(['No', 'Yes'], dtype=object)"
      ]
     },
     "execution_count": 25,
     "metadata": {},
     "output_type": "execute_result"
    }
   ],
   "source": [
    "social_record[\"working_flag\"].unique()"
   ]
  },
  {
   "cell_type": "code",
   "execution_count": 26,
   "id": "78668d07",
   "metadata": {},
   "outputs": [],
   "source": [
    "## Encoding the variable\n",
    "social_record[\"working_flag\"] = social_record[\"working_flag\"].replace({\"Yes\":1,\"No\":0})"
   ]
  },
  {
   "cell_type": "code",
   "execution_count": 27,
   "id": "c5f5ec23",
   "metadata": {},
   "outputs": [
    {
     "data": {
      "text/plain": [
       "<AxesSubplot:xlabel='working_flag', ylabel='count'>"
      ]
     },
     "execution_count": 27,
     "metadata": {},
     "output_type": "execute_result"
    },
    {
     "data": {
      "image/png": "[encoded data removed]",
      "text/plain": [
       "<Figure size 864x576 with 1 Axes>"
      ]
     },
     "metadata": {
      "needs_background": "light"
     },
     "output_type": "display_data"
    }
   ],
   "source": [
    "sns.countplot(x=social_record[\"working_flag\"],hue=social_record[\"Taken_product\"])"
   ]
  },
  {
   "cell_type": "markdown",
   "id": "dca48352",
   "metadata": {},
   "source": [
    "#### Travelling Network Rating"
   ]
  },
  {
   "cell_type": "code",
   "execution_count": 28,
   "id": "e798c5a0",
   "metadata": {},
   "outputs": [
    {
     "data": {
      "text/plain": [
       "array([1, 4, 2, 3], dtype=int64)"
      ]
     },
     "execution_count": 28,
     "metadata": {},
     "output_type": "execute_result"
    }
   ],
   "source": [
    "social_record[\"travelling_network_rating\"].unique()"
   ]
  },
  {
   "cell_type": "code",
   "execution_count": 29,
   "id": "5ddd7976",
   "metadata": {},
   "outputs": [],
   "source": [
    "### Reversing the variable\n",
    "social_record[\"travelling_network_rating\"] = social_record[\"travelling_network_rating\"].replace({1:\"highest\",2:\"high\",3:\"low\",4:\"poor\"})"
   ]
  },
  {
   "cell_type": "code",
   "execution_count": 30,
   "id": "8aba7fab",
   "metadata": {},
   "outputs": [],
   "source": [
    "social_record[\"travelling_network_rating\"] = social_record[\"travelling_network_rating\"].replace({\"poor\":1,\"low\":2,\"high\":3,\"highest\":4})"
   ]
  },
  {
   "cell_type": "code",
   "execution_count": 31,
   "id": "362b78a3",
   "metadata": {},
   "outputs": [
    {
     "data": {
      "text/plain": [
       "array([4, 1, 3, 2], dtype=int64)"
      ]
     },
     "execution_count": 31,
     "metadata": {},
     "output_type": "execute_result"
    }
   ],
   "source": [
    "social_record[\"travelling_network_rating\"].unique()"
   ]
  },
  {
   "cell_type": "code",
   "execution_count": 32,
   "id": "3974db59",
   "metadata": {},
   "outputs": [
    {
     "data": {
      "text/plain": [
       "<AxesSubplot:xlabel='travelling_network_rating', ylabel='count'>"
      ]
     },
     "execution_count": 32,
     "metadata": {},
     "output_type": "execute_result"
    },
    {
     "data": {
      "image/png": "[encoded data removed]",
      "text/plain": [
       "<Figure size 864x576 with 1 Axes>"
      ]
     },
     "metadata": {
      "needs_background": "light"
     },
     "output_type": "display_data"
    }
   ],
   "source": [
    "sns.countplot(x=social_record[\"travelling_network_rating\"])"
   ]
  },
  {
   "cell_type": "code",
   "execution_count": 33,
   "id": "96292a70",
   "metadata": {},
   "outputs": [
    {
     "data": {
      "text/html": [
       "<div>\n",
       "<style scoped>\n",
       "    .dataframe tbody tr th:only-of-type {\n",
       "        vertical-align: middle;\n",
       "    }\n",
       "\n",
       "    .dataframe tbody tr th {\n",
       "        vertical-align: top;\n",
       "    }\n",
       "\n",
       "    .dataframe thead th {\n",
       "        text-align: right;\n",
       "    }\n",
       "</style>\n",
       "<table border=\"1\" class=\"dataframe\">\n",
       "  <thead>\n",
       "    <tr style=\"text-align: right;\">\n",
       "      <th>Taken_product</th>\n",
       "      <th>0</th>\n",
       "      <th>1</th>\n",
       "    </tr>\n",
       "    <tr>\n",
       "      <th>travelling_network_rating</th>\n",
       "      <th></th>\n",
       "      <th></th>\n",
       "    </tr>\n",
       "  </thead>\n",
       "  <tbody>\n",
       "    <tr>\n",
       "      <th>1</th>\n",
       "      <td>2944</td>\n",
       "      <td>512</td>\n",
       "    </tr>\n",
       "    <tr>\n",
       "      <th>2</th>\n",
       "      <td>3104</td>\n",
       "      <td>568</td>\n",
       "    </tr>\n",
       "    <tr>\n",
       "      <th>3</th>\n",
       "      <td>2064</td>\n",
       "      <td>360</td>\n",
       "    </tr>\n",
       "    <tr>\n",
       "      <th>4</th>\n",
       "      <td>1752</td>\n",
       "      <td>456</td>\n",
       "    </tr>\n",
       "  </tbody>\n",
       "</table>\n",
       "</div>"
      ],
      "text/plain": [
       "Taken_product                 0    1\n",
       "travelling_network_rating           \n",
       "1                          2944  512\n",
       "2                          3104  568\n",
       "3                          2064  360\n",
       "4                          1752  456"
      ]
     },
     "execution_count": 33,
     "metadata": {},
     "output_type": "execute_result"
    }
   ],
   "source": [
    "pd.crosstab(social_record[\"travelling_network_rating\"],social_record[\"Taken_product\"])"
   ]
  },
  {
   "cell_type": "code",
   "execution_count": 34,
   "id": "423bf7ae",
   "metadata": {},
   "outputs": [
    {
     "data": {
      "text/plain": [
       "2    3672\n",
       "1    3456\n",
       "3    2424\n",
       "4    2208\n",
       "Name: travelling_network_rating, dtype: int64"
      ]
     },
     "execution_count": 34,
     "metadata": {},
     "output_type": "execute_result"
    }
   ],
   "source": [
    "social_record[\"travelling_network_rating\"].value_counts()"
   ]
  },
  {
   "cell_type": "markdown",
   "id": "ad41730f",
   "metadata": {},
   "source": [
    "#### Adult Flag"
   ]
  },
  {
   "cell_type": "code",
   "execution_count": 35,
   "id": "c4c95ae1",
   "metadata": {},
   "outputs": [
    {
     "data": {
      "text/plain": [
       "array([0, 1, 3, 2], dtype=int64)"
      ]
     },
     "execution_count": 35,
     "metadata": {},
     "output_type": "execute_result"
    }
   ],
   "source": [
    "social_record[\"Adult_flag\"].unique()"
   ]
  },
  {
   "cell_type": "code",
   "execution_count": 36,
   "id": "6958b755",
   "metadata": {},
   "outputs": [],
   "source": [
    "social_record[\"Adult_flag\"] = social_record[\"Adult_flag\"].replace({2:1,3:1})"
   ]
  },
  {
   "cell_type": "code",
   "execution_count": 37,
   "id": "48ac1b73",
   "metadata": {},
   "outputs": [
    {
     "data": {
      "text/plain": [
       "<AxesSubplot:xlabel='Adult_flag', ylabel='count'>"
      ]
     },
     "execution_count": 37,
     "metadata": {},
     "output_type": "execute_result"
    },
    {
     "data": {
      "image/png": "[encoded data removed]",
      "text/plain": [
       "<Figure size 864x576 with 1 Axes>"
      ]
     },
     "metadata": {
      "needs_background": "light"
     },
     "output_type": "display_data"
    }
   ],
   "source": [
    "sns.countplot(x=social_record[\"Adult_flag\"])"
   ]
  },
  {
   "cell_type": "markdown",
   "id": "3c4ae3ee",
   "metadata": {},
   "source": [
    "#### Week Since Last Out-of-station check-in"
   ]
  },
  {
   "cell_type": "code",
   "execution_count": 38,
   "id": "a971d53a",
   "metadata": {},
   "outputs": [
    {
     "data": {
      "text/plain": [
       "array([ 8,  1,  6,  9,  0,  4,  5,  2,  7,  3, 10, 11], dtype=int64)"
      ]
     },
     "execution_count": 38,
     "metadata": {},
     "output_type": "execute_result"
    }
   ],
   "source": [
    "social_record[\"week_since_last_outstation_checkin\"].unique()"
   ]
  },
  {
   "cell_type": "code",
   "execution_count": 39,
   "id": "4f58e312",
   "metadata": {},
   "outputs": [
    {
     "data": {
      "text/plain": [
       "<AxesSubplot:xlabel='week_since_last_outstation_checkin', ylabel='count'>"
      ]
     },
     "execution_count": 39,
     "metadata": {},
     "output_type": "execute_result"
    },
    {
     "data": {
      "image/png": "[encoded data removed]",
      "text/plain": [
       "<Figure size 864x576 with 1 Axes>"
      ]
     },
     "metadata": {
      "needs_background": "light"
     },
     "output_type": "display_data"
    }
   ],
   "source": [
    "sns.countplot(x = social_record[\"week_since_last_outstation_checkin\"],order = social_record[\"week_since_last_outstation_checkin\"].value_counts().index)"
   ]
  },
  {
   "cell_type": "markdown",
   "id": "53ec6ef6",
   "metadata": {},
   "source": [
    "#### Continous Variables"
   ]
  },
  {
   "cell_type": "code",
   "execution_count": 40,
   "id": "cd6da511",
   "metadata": {},
   "outputs": [],
   "source": [
    "feature_list = [\"Yearly_avg_comment_on_travel_page\",\"total_likes_on_outofstation_checkin_received\",\"montly_avg_comment_on_company_page\",\"Daily_Avg_mins_spend_on_traveling_page\",\"total_likes_on_outstation_checkin_given\",\"Yearly_avg_view_on_travel_page\"]"
   ]
  },
  {
   "cell_type": "code",
   "execution_count": 41,
   "id": "3dcceea5",
   "metadata": {},
   "outputs": [
    {
     "data": {
      "image/png": "[encoded data removed]",
      "text/plain": [
       "<Figure size 864x576 with 6 Axes>"
      ]
     },
     "metadata": {
      "needs_background": "light"
     },
     "output_type": "display_data"
    }
   ],
   "source": [
    "for i in range(len(feature_list)):\n",
    "    plt.subplot(3,2,i+1)\n",
    "    sns.histplot(social_record[feature_list[i]], kde = True)\n",
    "    plt.title(f\"Histogram of {feature_list[i]}\")\n",
    "    plt.tight_layout()"
   ]
  },
  {
   "cell_type": "code",
   "execution_count": 42,
   "id": "5eeb8a68",
   "metadata": {},
   "outputs": [
    {
     "data": {
      "image/png": "[encoded data removed]",
      "text/plain": [
       "<Figure size 864x576 with 6 Axes>"
      ]
     },
     "metadata": {
      "needs_background": "light"
     },
     "output_type": "display_data"
    }
   ],
   "source": [
    "for i in range(len(feature_list)):\n",
    "    plt.subplot(3,2,i+1)\n",
    "    sns.boxplot(x=social_record[feature_list[i]])\n",
    "    plt.title(f\"Boxplot of {feature_list[i]}\")\n",
    "    plt.tight_layout()"
   ]
  },
  {
   "cell_type": "code",
   "execution_count": 43,
   "id": "4f4a392d",
   "metadata": {},
   "outputs": [
    {
     "data": {
      "text/html": [
       "<div>\n",
       "<style scoped>\n",
       "    .dataframe tbody tr th:only-of-type {\n",
       "        vertical-align: middle;\n",
       "    }\n",
       "\n",
       "    .dataframe tbody tr th {\n",
       "        vertical-align: top;\n",
       "    }\n",
       "\n",
       "    .dataframe thead th {\n",
       "        text-align: right;\n",
       "    }\n",
       "</style>\n",
       "<table border=\"1\" class=\"dataframe\">\n",
       "  <thead>\n",
       "    <tr style=\"text-align: right;\">\n",
       "      <th></th>\n",
       "      <th>count</th>\n",
       "      <th>mean</th>\n",
       "      <th>std</th>\n",
       "      <th>min</th>\n",
       "      <th>25%</th>\n",
       "      <th>50%</th>\n",
       "      <th>75%</th>\n",
       "      <th>max</th>\n",
       "    </tr>\n",
       "  </thead>\n",
       "  <tbody>\n",
       "    <tr>\n",
       "      <th>Yearly_avg_comment_on_travel_page</th>\n",
       "      <td>11554.0</td>\n",
       "      <td>74.790029</td>\n",
       "      <td>24.026650</td>\n",
       "      <td>3.0</td>\n",
       "      <td>57.00</td>\n",
       "      <td>75.0</td>\n",
       "      <td>92.00</td>\n",
       "      <td>815.0</td>\n",
       "    </tr>\n",
       "    <tr>\n",
       "      <th>total_likes_on_outofstation_checkin_received</th>\n",
       "      <td>11760.0</td>\n",
       "      <td>6531.699065</td>\n",
       "      <td>4706.613785</td>\n",
       "      <td>1009.0</td>\n",
       "      <td>2940.75</td>\n",
       "      <td>4948.0</td>\n",
       "      <td>8393.25</td>\n",
       "      <td>20065.0</td>\n",
       "    </tr>\n",
       "    <tr>\n",
       "      <th>montly_avg_comment_on_company_page</th>\n",
       "      <td>11760.0</td>\n",
       "      <td>28.661565</td>\n",
       "      <td>48.660504</td>\n",
       "      <td>11.0</td>\n",
       "      <td>17.00</td>\n",
       "      <td>22.0</td>\n",
       "      <td>27.00</td>\n",
       "      <td>500.0</td>\n",
       "    </tr>\n",
       "    <tr>\n",
       "      <th>Daily_Avg_mins_spend_on_traveling_page</th>\n",
       "      <td>11760.0</td>\n",
       "      <td>13.817432</td>\n",
       "      <td>9.070657</td>\n",
       "      <td>0.0</td>\n",
       "      <td>8.00</td>\n",
       "      <td>12.0</td>\n",
       "      <td>18.00</td>\n",
       "      <td>270.0</td>\n",
       "    </tr>\n",
       "    <tr>\n",
       "      <th>total_likes_on_outstation_checkin_given</th>\n",
       "      <td>11379.0</td>\n",
       "      <td>28170.481765</td>\n",
       "      <td>14385.032134</td>\n",
       "      <td>3570.0</td>\n",
       "      <td>16380.00</td>\n",
       "      <td>28076.0</td>\n",
       "      <td>40525.00</td>\n",
       "      <td>252430.0</td>\n",
       "    </tr>\n",
       "    <tr>\n",
       "      <th>Yearly_avg_view_on_travel_page</th>\n",
       "      <td>11179.0</td>\n",
       "      <td>280.830844</td>\n",
       "      <td>68.182958</td>\n",
       "      <td>35.0</td>\n",
       "      <td>232.00</td>\n",
       "      <td>271.0</td>\n",
       "      <td>324.00</td>\n",
       "      <td>464.0</td>\n",
       "    </tr>\n",
       "  </tbody>\n",
       "</table>\n",
       "</div>"
      ],
      "text/plain": [
       "                                                count          mean  \\\n",
       "Yearly_avg_comment_on_travel_page             11554.0     74.790029   \n",
       "total_likes_on_outofstation_checkin_received  11760.0   6531.699065   \n",
       "montly_avg_comment_on_company_page            11760.0     28.661565   \n",
       "Daily_Avg_mins_spend_on_traveling_page        11760.0     13.817432   \n",
       "total_likes_on_outstation_checkin_given       11379.0  28170.481765   \n",
       "Yearly_avg_view_on_travel_page                11179.0    280.830844   \n",
       "\n",
       "                                                       std     min       25%  \\\n",
       "Yearly_avg_comment_on_travel_page                24.026650     3.0     57.00   \n",
       "total_likes_on_outofstation_checkin_received   4706.613785  1009.0   2940.75   \n",
       "montly_avg_comment_on_company_page               48.660504    11.0     17.00   \n",
       "Daily_Avg_mins_spend_on_traveling_page            9.070657     0.0      8.00   \n",
       "total_likes_on_outstation_checkin_given       14385.032134  3570.0  16380.00   \n",
       "Yearly_avg_view_on_travel_page                   68.182958    35.0    232.00   \n",
       "\n",
       "                                                  50%       75%       max  \n",
       "Yearly_avg_comment_on_travel_page                75.0     92.00     815.0  \n",
       "total_likes_on_outofstation_checkin_received   4948.0   8393.25   20065.0  \n",
       "montly_avg_comment_on_company_page               22.0     27.00     500.0  \n",
       "Daily_Avg_mins_spend_on_traveling_page           12.0     18.00     270.0  \n",
       "total_likes_on_outstation_checkin_given       28076.0  40525.00  252430.0  \n",
       "Yearly_avg_view_on_travel_page                  271.0    324.00     464.0  "
      ]
     },
     "execution_count": 43,
     "metadata": {},
     "output_type": "execute_result"
    }
   ],
   "source": [
    "social_record[feature_list].describe().T"
   ]
  },
  {
   "cell_type": "code",
   "execution_count": 44,
   "id": "7d3f5eec",
   "metadata": {},
   "outputs": [
    {
     "data": {
      "text/plain": [
       "<AxesSubplot:xlabel='Taken_product', ylabel='count'>"
      ]
     },
     "execution_count": 44,
     "metadata": {},
     "output_type": "execute_result"
    },
    {
     "data": {
      "image/png": "[encoded data removed]",
      "text/plain": [
       "<Figure size 864x576 with 1 Axes>"
      ]
     },
     "metadata": {
      "needs_background": "light"
     },
     "output_type": "display_data"
    }
   ],
   "source": [
    "sns.countplot(x=social_record[\"Taken_product\"])"
   ]
  },
  {
   "cell_type": "code",
   "execution_count": 45,
   "id": "440977d8",
   "metadata": {},
   "outputs": [
    {
     "data": {
      "text/plain": [
       "0    0.838776\n",
       "1    0.161224\n",
       "Name: Taken_product, dtype: float64"
      ]
     },
     "execution_count": 45,
     "metadata": {},
     "output_type": "execute_result"
    }
   ],
   "source": [
    "social_record[\"Taken_product\"].value_counts(normalize=True)"
   ]
  },
  {
   "cell_type": "code",
   "execution_count": 46,
   "id": "2b083669",
   "metadata": {},
   "outputs": [],
   "source": [
    "df = social_record.copy()\n",
    "df= df.drop(['UserID','preferred_device'],axis=1)\n",
    "df_corr = df.corr()\n",
    "matrix = np.triu(df_corr,1)"
   ]
  },
  {
   "cell_type": "code",
   "execution_count": 47,
   "id": "08ef773e",
   "metadata": {},
   "outputs": [
    {
     "data": {
      "text/plain": [
       "<AxesSubplot:>"
      ]
     },
     "execution_count": 47,
     "metadata": {},
     "output_type": "execute_result"
    },
    {
     "data": {
      "image/png": "[encoded data removed]",
      "text/plain": [
       "<Figure size 864x576 with 2 Axes>"
      ]
     },
     "metadata": {
      "needs_background": "light"
     },
     "output_type": "display_data"
    }
   ],
   "source": [
    "sns.heatmap(df_corr,annot=True,mask=matrix)"
   ]
  },
  {
   "cell_type": "code",
   "execution_count": 48,
   "id": "74c6516d",
   "metadata": {},
   "outputs": [],
   "source": [
    "## Outlier Treatment\n",
    "def remove_outlier(col):                                  \n",
    "    Q1,Q3=col.quantile([0.25,0.75])\n",
    "    IQR=Q3-Q1\n",
    "    lower_range= Q1-(1.5 * IQR)\n",
    "    upper_range= Q3+(1.5 * IQR)\n",
    "    return lower_range, upper_range"
   ]
  },
  {
   "cell_type": "code",
   "execution_count": 49,
   "id": "a6b15bd0",
   "metadata": {},
   "outputs": [],
   "source": [
    "### Yearly_avg_view_on_travel_page\n",
    "LL, UL = remove_outlier(social_record[\"Yearly_avg_view_on_travel_page\"])\n",
    "social_record[\"Yearly_avg_view_on_travel_page\"] = np.where(social_record[\"Yearly_avg_view_on_travel_page\"] > UL, UL, social_record[\"Yearly_avg_view_on_travel_page\"])\n",
    "social_record[\"Yearly_avg_view_on_travel_page\"] = np.where(social_record[\"Yearly_avg_view_on_travel_page\"]< LL, LL, social_record[\"Yearly_avg_view_on_travel_page\"])"
   ]
  },
  {
   "cell_type": "code",
   "execution_count": 50,
   "id": "57763ad6",
   "metadata": {},
   "outputs": [],
   "source": [
    "## total_likes_on_outofstation_checkin_received\n",
    "LL, UL = remove_outlier(social_record[\"total_likes_on_outofstation_checkin_received\"])\n",
    "social_record[\"total_likes_on_outofstation_checkin_received\"] = np.where(social_record[\"total_likes_on_outofstation_checkin_received\"] > UL, UL, social_record[\"total_likes_on_outofstation_checkin_received\"])\n",
    "social_record[\"total_likes_on_outofstation_checkin_received\"] = np.where(social_record[\"total_likes_on_outofstation_checkin_received\"]< LL, LL, social_record[\"total_likes_on_outofstation_checkin_received\"])"
   ]
  },
  {
   "cell_type": "code",
   "execution_count": 51,
   "id": "106af53a",
   "metadata": {},
   "outputs": [],
   "source": [
    "## Yearly_avg_comment_on_travel_page\n",
    "LL, UL = remove_outlier(social_record[\"Yearly_avg_comment_on_travel_page\"])\n",
    "social_record[\"Yearly_avg_comment_on_travel_page\"] = np.where(social_record[\"Yearly_avg_comment_on_travel_page\"] > UL, UL, social_record[\"Yearly_avg_comment_on_travel_page\"])\n",
    "social_record[\"Yearly_avg_comment_on_travel_page\"] = np.where(social_record[\"Yearly_avg_comment_on_travel_page\"]< LL, LL, social_record[\"Yearly_avg_comment_on_travel_page\"])"
   ]
  },
  {
   "cell_type": "code",
   "execution_count": 52,
   "id": "32cd7da6",
   "metadata": {},
   "outputs": [],
   "source": [
    "## total_likes_on_outstation_checkin_given\n",
    "LL, UL = remove_outlier(social_record[\"total_likes_on_outstation_checkin_given\"])\n",
    "social_record[\"total_likes_on_outstation_checkin_given\"] = np.where(social_record[\"total_likes_on_outstation_checkin_given\"] > UL, UL, social_record[\"total_likes_on_outstation_checkin_given\"])\n",
    "social_record[\"total_likes_on_outstation_checkin_given\"] = np.where(social_record[\"total_likes_on_outstation_checkin_given\"]< LL, LL, social_record[\"total_likes_on_outstation_checkin_given\"])"
   ]
  },
  {
   "cell_type": "code",
   "execution_count": 53,
   "id": "e403ce01",
   "metadata": {},
   "outputs": [],
   "source": [
    "## montly_avg_comment_on_company_page\n",
    "LL, UL = remove_outlier(social_record[\"montly_avg_comment_on_company_page\"])\n",
    "social_record[\"montly_avg_comment_on_company_page\"] = np.where(social_record[\"montly_avg_comment_on_company_page\"] > UL, UL, social_record[\"montly_avg_comment_on_company_page\"])\n",
    "social_record[\"montly_avg_comment_on_company_page\"] = np.where(social_record[\"montly_avg_comment_on_company_page\"]< LL, LL, social_record[\"montly_avg_comment_on_company_page\"])"
   ]
  },
  {
   "cell_type": "code",
   "execution_count": 54,
   "id": "13f0c14c",
   "metadata": {},
   "outputs": [],
   "source": [
    "### Daily_Avg_mins_spend_on_traveling_page\n",
    "LL, UL = remove_outlier(social_record[\"Daily_Avg_mins_spend_on_traveling_page\"])\n",
    "social_record[\"Daily_Avg_mins_spend_on_traveling_page\"] = np.where(social_record[\"Daily_Avg_mins_spend_on_traveling_page\"] > UL, UL, social_record[\"Daily_Avg_mins_spend_on_traveling_page\"])\n",
    "social_record[\"Daily_Avg_mins_spend_on_traveling_page\"] = np.where(social_record[\"Daily_Avg_mins_spend_on_traveling_page\"]< LL, LL, social_record[\"Daily_Avg_mins_spend_on_traveling_page\"])"
   ]
  },
  {
   "cell_type": "code",
   "execution_count": 55,
   "id": "104b1333",
   "metadata": {},
   "outputs": [
    {
     "data": {
      "image/png": "[encoded data removed]",
      "text/plain": [
       "<Figure size 864x576 with 6 Axes>"
      ]
     },
     "metadata": {
      "needs_background": "light"
     },
     "output_type": "display_data"
    }
   ],
   "source": [
    "for i in range(len(feature_list)):\n",
    "    plt.subplot(3,2,i+1)\n",
    "    sns.boxplot(x=social_record[feature_list[i]])\n",
    "    plt.title(f\"Boxplot of {feature_list[i]}\")\n",
    "    plt.tight_layout()"
   ]
  },
  {
   "cell_type": "code",
   "execution_count": 56,
   "id": "79ed1b23",
   "metadata": {},
   "outputs": [
    {
     "data": {
      "text/plain": [
       "array(['1', '24', '23', '27', '16', '15', '26', '19', '21', '11', '10',\n",
       "       '25', '12', '18', '29', nan, '22', '14', '20', '28', '17', '13',\n",
       "       '*', '5', '8', '2', '3', '9', '7', '6', '4'], dtype=object)"
      ]
     },
     "execution_count": 56,
     "metadata": {},
     "output_type": "execute_result"
    }
   ],
   "source": [
    "social_record[\"yearly_avg_Outstation_checkins\"].unique()"
   ]
  },
  {
   "cell_type": "code",
   "execution_count": 57,
   "id": "88f7c13c",
   "metadata": {},
   "outputs": [],
   "source": [
    "social_record[\"Yearly_avg_view_on_travel_page\"] = social_record[\"Yearly_avg_view_on_travel_page\"].fillna(271)"
   ]
  },
  {
   "cell_type": "code",
   "execution_count": 58,
   "id": "beaa8d85",
   "metadata": {},
   "outputs": [],
   "source": [
    "social_record[\"yearly_avg_Outstation_checkins\"] = social_record[\"yearly_avg_Outstation_checkins\"].fillna(1)"
   ]
  },
  {
   "cell_type": "code",
   "execution_count": 59,
   "id": "c7ebc0d9",
   "metadata": {},
   "outputs": [],
   "source": [
    "social_record[\"yearly_avg_Outstation_checkins\"] = social_record[\"yearly_avg_Outstation_checkins\"].replace(\"*\",1)"
   ]
  },
  {
   "cell_type": "code",
   "execution_count": 60,
   "id": "7c4ef615",
   "metadata": {},
   "outputs": [],
   "source": [
    "social_record[\"yearly_avg_Outstation_checkins\"] = social_record[\"yearly_avg_Outstation_checkins\"].astype(\"int\")"
   ]
  },
  {
   "cell_type": "code",
   "execution_count": 61,
   "id": "ef0b43bc",
   "metadata": {},
   "outputs": [],
   "source": [
    "social_record[\"preferred_device\"] = social_record[\"preferred_device\"].fillna(\"Mobile\")"
   ]
  },
  {
   "cell_type": "code",
   "execution_count": 62,
   "id": "9cb91716",
   "metadata": {},
   "outputs": [
    {
     "data": {
      "text/plain": [
       "{'Tour and Travel': 5690,\n",
       " 'Financial': 2409,\n",
       " 'Medical': 1845,\n",
       " 'Entertainment': 1173,\n",
       " 'Other': 643}"
      ]
     },
     "execution_count": 62,
     "metadata": {},
     "output_type": "execute_result"
    }
   ],
   "source": [
    "dict_preferred = social_record[\"preferred_location_type\"].value_counts().to_dict()\n",
    "dict_preferred"
   ]
  },
  {
   "cell_type": "code",
   "execution_count": 63,
   "id": "9c34e71b",
   "metadata": {},
   "outputs": [],
   "source": [
    "social_record[\"preferred_location_type\"] = social_record[\"preferred_location_type\"].replace(dict_preferred)"
   ]
  },
  {
   "cell_type": "code",
   "execution_count": 64,
   "id": "70e664ce",
   "metadata": {},
   "outputs": [
    {
     "data": {
      "text/plain": [
       "28076.0"
      ]
     },
     "execution_count": 64,
     "metadata": {},
     "output_type": "execute_result"
    }
   ],
   "source": [
    "social_record[\"total_likes_on_outstation_checkin_given\"].median()"
   ]
  },
  {
   "cell_type": "code",
   "execution_count": 65,
   "id": "0890925e",
   "metadata": {},
   "outputs": [],
   "source": [
    "social_record[\"total_likes_on_outstation_checkin_given\"] = social_record[\"total_likes_on_outstation_checkin_given\"].fillna(28076)"
   ]
  },
  {
   "cell_type": "code",
   "execution_count": 66,
   "id": "b6ca51ea",
   "metadata": {},
   "outputs": [
    {
     "data": {
      "text/plain": [
       "75.0"
      ]
     },
     "execution_count": 66,
     "metadata": {},
     "output_type": "execute_result"
    }
   ],
   "source": [
    "social_record[\"Yearly_avg_comment_on_travel_page\"].median()"
   ]
  },
  {
   "cell_type": "code",
   "execution_count": 67,
   "id": "e2b4c36e",
   "metadata": {},
   "outputs": [],
   "source": [
    "social_record[\"Yearly_avg_comment_on_travel_page\"] = social_record[\"Yearly_avg_comment_on_travel_page\"].fillna(75)"
   ]
  },
  {
   "cell_type": "code",
   "execution_count": 68,
   "id": "7e78eddc",
   "metadata": {},
   "outputs": [
    {
     "data": {
      "text/plain": [
       "UserID                                          0\n",
       "Taken_product                                   0\n",
       "Yearly_avg_view_on_travel_page                  0\n",
       "preferred_device                                0\n",
       "total_likes_on_outstation_checkin_given         0\n",
       "yearly_avg_Outstation_checkins                  0\n",
       "member_in_family                                0\n",
       "preferred_location_type                         0\n",
       "Yearly_avg_comment_on_travel_page               0\n",
       "total_likes_on_outofstation_checkin_received    0\n",
       "week_since_last_outstation_checkin              0\n",
       "following_company_page                          0\n",
       "montly_avg_comment_on_company_page              0\n",
       "working_flag                                    0\n",
       "travelling_network_rating                       0\n",
       "Adult_flag                                      0\n",
       "Daily_Avg_mins_spend_on_traveling_page          0\n",
       "dtype: int64"
      ]
     },
     "execution_count": 68,
     "metadata": {},
     "output_type": "execute_result"
    }
   ],
   "source": [
    "social_record.isnull().sum()"
   ]
  },
  {
   "cell_type": "code",
   "execution_count": 69,
   "id": "4acc3adb",
   "metadata": {},
   "outputs": [
    {
     "name": "stdout",
     "output_type": "stream",
     "text": [
      "<class 'pandas.core.frame.DataFrame'>\n",
      "RangeIndex: 11760 entries, 0 to 11759\n",
      "Data columns (total 17 columns):\n",
      " #   Column                                        Non-Null Count  Dtype  \n",
      "---  ------                                        --------------  -----  \n",
      " 0   UserID                                        11760 non-null  int64  \n",
      " 1   Taken_product                                 11760 non-null  int64  \n",
      " 2   Yearly_avg_view_on_travel_page                11760 non-null  float64\n",
      " 3   preferred_device                              11760 non-null  object \n",
      " 4   total_likes_on_outstation_checkin_given       11760 non-null  float64\n",
      " 5   yearly_avg_Outstation_checkins                11760 non-null  int32  \n",
      " 6   member_in_family                              11760 non-null  int32  \n",
      " 7   preferred_location_type                       11760 non-null  int64  \n",
      " 8   Yearly_avg_comment_on_travel_page             11760 non-null  float64\n",
      " 9   total_likes_on_outofstation_checkin_received  11760 non-null  float64\n",
      " 10  week_since_last_outstation_checkin            11760 non-null  int64  \n",
      " 11  following_company_page                        11760 non-null  int64  \n",
      " 12  montly_avg_comment_on_company_page            11760 non-null  float64\n",
      " 13  working_flag                                  11760 non-null  int64  \n",
      " 14  travelling_network_rating                     11760 non-null  int64  \n",
      " 15  Adult_flag                                    11760 non-null  int64  \n",
      " 16  Daily_Avg_mins_spend_on_traveling_page        11760 non-null  float64\n",
      "dtypes: float64(6), int32(2), int64(8), object(1)\n",
      "memory usage: 1.4+ MB\n"
     ]
    }
   ],
   "source": [
    "social_record.info()"
   ]
  },
  {
   "cell_type": "code",
   "execution_count": 70,
   "id": "0ffa97d8",
   "metadata": {},
   "outputs": [
    {
     "data": {
      "text/plain": [
       "array(['iOS and Android', 'iOS', 'ANDROID', 'Mobile', 'Android',\n",
       "       'Android OS', 'Other', 'Others', 'Tab', 'Laptop'], dtype=object)"
      ]
     },
     "execution_count": 70,
     "metadata": {},
     "output_type": "execute_result"
    }
   ],
   "source": [
    "social_record[\"preferred_device\"].unique()"
   ]
  },
  {
   "cell_type": "code",
   "execution_count": 71,
   "id": "d5f7692c",
   "metadata": {},
   "outputs": [],
   "source": [
    "for i in social_record[\"preferred_device\"]:\n",
    "    if i == \"Laptop\":\n",
    "        pass\n",
    "    else:\n",
    "        social_record[\"preferred_device\"] = social_record[\"preferred_device\"].replace({i:\"Mobile\"})"
   ]
  },
  {
   "cell_type": "code",
   "execution_count": 72,
   "id": "58f4bd19",
   "metadata": {},
   "outputs": [],
   "source": [
    "mobile_user = social_record[social_record[\"preferred_device\"] == \"Mobile\"]"
   ]
  },
  {
   "cell_type": "code",
   "execution_count": 73,
   "id": "49741b2e",
   "metadata": {},
   "outputs": [],
   "source": [
    "Laptop_user = social_record[social_record[\"preferred_device\"]==\"Laptop\"]"
   ]
  },
  {
   "cell_type": "code",
   "execution_count": 74,
   "id": "c2f68266",
   "metadata": {},
   "outputs": [],
   "source": [
    "mobile_user.to_csv(\"mobile_user.csv\",header=mobile_user.columns)"
   ]
  },
  {
   "cell_type": "code",
   "execution_count": 75,
   "id": "783172fb",
   "metadata": {},
   "outputs": [],
   "source": [
    "Laptop_user.to_csv(\"Laptop_user.csv\",header=Laptop_user.columns)"
   ]
  },
  {
   "cell_type": "code",
   "execution_count": 76,
   "id": "51664a7a",
   "metadata": {},
   "outputs": [],
   "source": [
    "mobile_user = pd.read_csv(\"mobile_user.csv\")"
   ]
  },
  {
   "cell_type": "code",
   "execution_count": 77,
   "id": "0265624f",
   "metadata": {},
   "outputs": [
    {
     "data": {
      "text/html": [
       "<div>\n",
       "<style scoped>\n",
       "    .dataframe tbody tr th:only-of-type {\n",
       "        vertical-align: middle;\n",
       "    }\n",
       "\n",
       "    .dataframe tbody tr th {\n",
       "        vertical-align: top;\n",
       "    }\n",
       "\n",
       "    .dataframe thead th {\n",
       "        text-align: right;\n",
       "    }\n",
       "</style>\n",
       "<table border=\"1\" class=\"dataframe\">\n",
       "  <thead>\n",
       "    <tr style=\"text-align: right;\">\n",
       "      <th></th>\n",
       "      <th>Unnamed: 0</th>\n",
       "      <th>UserID</th>\n",
       "      <th>Taken_product</th>\n",
       "      <th>Yearly_avg_view_on_travel_page</th>\n",
       "      <th>preferred_device</th>\n",
       "      <th>total_likes_on_outstation_checkin_given</th>\n",
       "      <th>yearly_avg_Outstation_checkins</th>\n",
       "      <th>member_in_family</th>\n",
       "      <th>preferred_location_type</th>\n",
       "      <th>Yearly_avg_comment_on_travel_page</th>\n",
       "      <th>total_likes_on_outofstation_checkin_received</th>\n",
       "      <th>week_since_last_outstation_checkin</th>\n",
       "      <th>following_company_page</th>\n",
       "      <th>montly_avg_comment_on_company_page</th>\n",
       "      <th>working_flag</th>\n",
       "      <th>travelling_network_rating</th>\n",
       "      <th>Adult_flag</th>\n",
       "      <th>Daily_Avg_mins_spend_on_traveling_page</th>\n",
       "    </tr>\n",
       "  </thead>\n",
       "  <tbody>\n",
       "    <tr>\n",
       "      <th>0</th>\n",
       "      <td>0</td>\n",
       "      <td>1000001</td>\n",
       "      <td>1</td>\n",
       "      <td>307.0</td>\n",
       "      <td>Mobile</td>\n",
       "      <td>38570.0</td>\n",
       "      <td>1</td>\n",
       "      <td>2</td>\n",
       "      <td>2409</td>\n",
       "      <td>94.0</td>\n",
       "      <td>5993.0</td>\n",
       "      <td>8</td>\n",
       "      <td>1</td>\n",
       "      <td>11.0</td>\n",
       "      <td>0</td>\n",
       "      <td>4</td>\n",
       "      <td>0</td>\n",
       "      <td>8.0</td>\n",
       "    </tr>\n",
       "    <tr>\n",
       "      <th>1</th>\n",
       "      <td>1</td>\n",
       "      <td>1000002</td>\n",
       "      <td>0</td>\n",
       "      <td>367.0</td>\n",
       "      <td>Mobile</td>\n",
       "      <td>9765.0</td>\n",
       "      <td>1</td>\n",
       "      <td>1</td>\n",
       "      <td>2409</td>\n",
       "      <td>61.0</td>\n",
       "      <td>5130.0</td>\n",
       "      <td>1</td>\n",
       "      <td>0</td>\n",
       "      <td>23.0</td>\n",
       "      <td>1</td>\n",
       "      <td>1</td>\n",
       "      <td>1</td>\n",
       "      <td>10.0</td>\n",
       "    </tr>\n",
       "    <tr>\n",
       "      <th>2</th>\n",
       "      <td>2</td>\n",
       "      <td>1000003</td>\n",
       "      <td>1</td>\n",
       "      <td>277.0</td>\n",
       "      <td>Mobile</td>\n",
       "      <td>48055.0</td>\n",
       "      <td>1</td>\n",
       "      <td>2</td>\n",
       "      <td>643</td>\n",
       "      <td>92.0</td>\n",
       "      <td>2090.0</td>\n",
       "      <td>6</td>\n",
       "      <td>1</td>\n",
       "      <td>15.0</td>\n",
       "      <td>0</td>\n",
       "      <td>3</td>\n",
       "      <td>0</td>\n",
       "      <td>7.0</td>\n",
       "    </tr>\n",
       "    <tr>\n",
       "      <th>3</th>\n",
       "      <td>3</td>\n",
       "      <td>1000004</td>\n",
       "      <td>0</td>\n",
       "      <td>247.0</td>\n",
       "      <td>Mobile</td>\n",
       "      <td>48720.0</td>\n",
       "      <td>1</td>\n",
       "      <td>4</td>\n",
       "      <td>2409</td>\n",
       "      <td>56.0</td>\n",
       "      <td>2909.0</td>\n",
       "      <td>1</td>\n",
       "      <td>1</td>\n",
       "      <td>11.0</td>\n",
       "      <td>0</td>\n",
       "      <td>2</td>\n",
       "      <td>0</td>\n",
       "      <td>8.0</td>\n",
       "    </tr>\n",
       "    <tr>\n",
       "      <th>4</th>\n",
       "      <td>4</td>\n",
       "      <td>1000005</td>\n",
       "      <td>0</td>\n",
       "      <td>202.0</td>\n",
       "      <td>Mobile</td>\n",
       "      <td>20685.0</td>\n",
       "      <td>1</td>\n",
       "      <td>1</td>\n",
       "      <td>1845</td>\n",
       "      <td>40.0</td>\n",
       "      <td>3468.0</td>\n",
       "      <td>9</td>\n",
       "      <td>0</td>\n",
       "      <td>12.0</td>\n",
       "      <td>0</td>\n",
       "      <td>1</td>\n",
       "      <td>1</td>\n",
       "      <td>6.0</td>\n",
       "    </tr>\n",
       "  </tbody>\n",
       "</table>\n",
       "</div>"
      ],
      "text/plain": [
       "   Unnamed: 0   UserID  Taken_product  Yearly_avg_view_on_travel_page  \\\n",
       "0           0  1000001              1                           307.0   \n",
       "1           1  1000002              0                           367.0   \n",
       "2           2  1000003              1                           277.0   \n",
       "3           3  1000004              0                           247.0   \n",
       "4           4  1000005              0                           202.0   \n",
       "\n",
       "  preferred_device  total_likes_on_outstation_checkin_given  \\\n",
       "0           Mobile                                  38570.0   \n",
       "1           Mobile                                   9765.0   \n",
       "2           Mobile                                  48055.0   \n",
       "3           Mobile                                  48720.0   \n",
       "4           Mobile                                  20685.0   \n",
       "\n",
       "   yearly_avg_Outstation_checkins  member_in_family  preferred_location_type  \\\n",
       "0                               1                 2                     2409   \n",
       "1                               1                 1                     2409   \n",
       "2                               1                 2                      643   \n",
       "3                               1                 4                     2409   \n",
       "4                               1                 1                     1845   \n",
       "\n",
       "   Yearly_avg_comment_on_travel_page  \\\n",
       "0                               94.0   \n",
       "1                               61.0   \n",
       "2                               92.0   \n",
       "3                               56.0   \n",
       "4                               40.0   \n",
       "\n",
       "   total_likes_on_outofstation_checkin_received  \\\n",
       "0                                        5993.0   \n",
       "1                                        5130.0   \n",
       "2                                        2090.0   \n",
       "3                                        2909.0   \n",
       "4                                        3468.0   \n",
       "\n",
       "   week_since_last_outstation_checkin  following_company_page  \\\n",
       "0                                   8                       1   \n",
       "1                                   1                       0   \n",
       "2                                   6                       1   \n",
       "3                                   1                       1   \n",
       "4                                   9                       0   \n",
       "\n",
       "   montly_avg_comment_on_company_page  working_flag  \\\n",
       "0                                11.0             0   \n",
       "1                                23.0             1   \n",
       "2                                15.0             0   \n",
       "3                                11.0             0   \n",
       "4                                12.0             0   \n",
       "\n",
       "   travelling_network_rating  Adult_flag  \\\n",
       "0                          4           0   \n",
       "1                          1           1   \n",
       "2                          3           0   \n",
       "3                          2           0   \n",
       "4                          1           1   \n",
       "\n",
       "   Daily_Avg_mins_spend_on_traveling_page  \n",
       "0                                     8.0  \n",
       "1                                    10.0  \n",
       "2                                     7.0  \n",
       "3                                     8.0  \n",
       "4                                     6.0  "
      ]
     },
     "execution_count": 77,
     "metadata": {},
     "output_type": "execute_result"
    }
   ],
   "source": [
    "mobile_user.head()"
   ]
  },
  {
   "cell_type": "code",
   "execution_count": 78,
   "id": "d46bdec3",
   "metadata": {},
   "outputs": [],
   "source": [
    "laptop_user = pd.read_csv(\"Laptop_user.csv\")"
   ]
  },
  {
   "cell_type": "code",
   "execution_count": 79,
   "id": "9b847f9d",
   "metadata": {},
   "outputs": [
    {
     "data": {
      "text/html": [
       "<div>\n",
       "<style scoped>\n",
       "    .dataframe tbody tr th:only-of-type {\n",
       "        vertical-align: middle;\n",
       "    }\n",
       "\n",
       "    .dataframe tbody tr th {\n",
       "        vertical-align: top;\n",
       "    }\n",
       "\n",
       "    .dataframe thead th {\n",
       "        text-align: right;\n",
       "    }\n",
       "</style>\n",
       "<table border=\"1\" class=\"dataframe\">\n",
       "  <thead>\n",
       "    <tr style=\"text-align: right;\">\n",
       "      <th></th>\n",
       "      <th>Unnamed: 0</th>\n",
       "      <th>UserID</th>\n",
       "      <th>Taken_product</th>\n",
       "      <th>Yearly_avg_view_on_travel_page</th>\n",
       "      <th>preferred_device</th>\n",
       "      <th>total_likes_on_outstation_checkin_given</th>\n",
       "      <th>yearly_avg_Outstation_checkins</th>\n",
       "      <th>member_in_family</th>\n",
       "      <th>preferred_location_type</th>\n",
       "      <th>Yearly_avg_comment_on_travel_page</th>\n",
       "      <th>total_likes_on_outofstation_checkin_received</th>\n",
       "      <th>week_since_last_outstation_checkin</th>\n",
       "      <th>following_company_page</th>\n",
       "      <th>montly_avg_comment_on_company_page</th>\n",
       "      <th>working_flag</th>\n",
       "      <th>travelling_network_rating</th>\n",
       "      <th>Adult_flag</th>\n",
       "      <th>Daily_Avg_mins_spend_on_traveling_page</th>\n",
       "    </tr>\n",
       "  </thead>\n",
       "  <tbody>\n",
       "    <tr>\n",
       "      <th>0</th>\n",
       "      <td>5881</td>\n",
       "      <td>1005882</td>\n",
       "      <td>0</td>\n",
       "      <td>379.0</td>\n",
       "      <td>Laptop</td>\n",
       "      <td>9776.0</td>\n",
       "      <td>8</td>\n",
       "      <td>1</td>\n",
       "      <td>5690</td>\n",
       "      <td>64.0</td>\n",
       "      <td>5142.0</td>\n",
       "      <td>1</td>\n",
       "      <td>0</td>\n",
       "      <td>33.0</td>\n",
       "      <td>1</td>\n",
       "      <td>1</td>\n",
       "      <td>1</td>\n",
       "      <td>10.0</td>\n",
       "    </tr>\n",
       "    <tr>\n",
       "      <th>1</th>\n",
       "      <td>5883</td>\n",
       "      <td>1005884</td>\n",
       "      <td>0</td>\n",
       "      <td>255.0</td>\n",
       "      <td>Laptop</td>\n",
       "      <td>48725.0</td>\n",
       "      <td>3</td>\n",
       "      <td>4</td>\n",
       "      <td>5690</td>\n",
       "      <td>59.0</td>\n",
       "      <td>2913.0</td>\n",
       "      <td>1</td>\n",
       "      <td>1</td>\n",
       "      <td>19.0</td>\n",
       "      <td>0</td>\n",
       "      <td>2</td>\n",
       "      <td>0</td>\n",
       "      <td>8.0</td>\n",
       "    </tr>\n",
       "    <tr>\n",
       "      <th>2</th>\n",
       "      <td>5885</td>\n",
       "      <td>1005886</td>\n",
       "      <td>0</td>\n",
       "      <td>250.0</td>\n",
       "      <td>Laptop</td>\n",
       "      <td>35184.0</td>\n",
       "      <td>2</td>\n",
       "      <td>2</td>\n",
       "      <td>5690</td>\n",
       "      <td>84.0</td>\n",
       "      <td>3074.0</td>\n",
       "      <td>0</td>\n",
       "      <td>0</td>\n",
       "      <td>23.0</td>\n",
       "      <td>0</td>\n",
       "      <td>2</td>\n",
       "      <td>0</td>\n",
       "      <td>8.0</td>\n",
       "    </tr>\n",
       "    <tr>\n",
       "      <th>3</th>\n",
       "      <td>5888</td>\n",
       "      <td>1005889</td>\n",
       "      <td>0</td>\n",
       "      <td>295.0</td>\n",
       "      <td>Laptop</td>\n",
       "      <td>7572.0</td>\n",
       "      <td>23</td>\n",
       "      <td>3</td>\n",
       "      <td>5690</td>\n",
       "      <td>48.0</td>\n",
       "      <td>9532.0</td>\n",
       "      <td>0</td>\n",
       "      <td>0</td>\n",
       "      <td>33.0</td>\n",
       "      <td>1</td>\n",
       "      <td>3</td>\n",
       "      <td>0</td>\n",
       "      <td>10.0</td>\n",
       "    </tr>\n",
       "    <tr>\n",
       "      <th>4</th>\n",
       "      <td>5906</td>\n",
       "      <td>1005907</td>\n",
       "      <td>1</td>\n",
       "      <td>250.0</td>\n",
       "      <td>Laptop</td>\n",
       "      <td>39379.0</td>\n",
       "      <td>16</td>\n",
       "      <td>1</td>\n",
       "      <td>5690</td>\n",
       "      <td>80.0</td>\n",
       "      <td>3926.0</td>\n",
       "      <td>1</td>\n",
       "      <td>1</td>\n",
       "      <td>33.0</td>\n",
       "      <td>1</td>\n",
       "      <td>3</td>\n",
       "      <td>0</td>\n",
       "      <td>10.0</td>\n",
       "    </tr>\n",
       "  </tbody>\n",
       "</table>\n",
       "</div>"
      ],
      "text/plain": [
       "   Unnamed: 0   UserID  Taken_product  Yearly_avg_view_on_travel_page  \\\n",
       "0        5881  1005882              0                           379.0   \n",
       "1        5883  1005884              0                           255.0   \n",
       "2        5885  1005886              0                           250.0   \n",
       "3        5888  1005889              0                           295.0   \n",
       "4        5906  1005907              1                           250.0   \n",
       "\n",
       "  preferred_device  total_likes_on_outstation_checkin_given  \\\n",
       "0           Laptop                                   9776.0   \n",
       "1           Laptop                                  48725.0   \n",
       "2           Laptop                                  35184.0   \n",
       "3           Laptop                                   7572.0   \n",
       "4           Laptop                                  39379.0   \n",
       "\n",
       "   yearly_avg_Outstation_checkins  member_in_family  preferred_location_type  \\\n",
       "0                               8                 1                     5690   \n",
       "1                               3                 4                     5690   \n",
       "2                               2                 2                     5690   \n",
       "3                              23                 3                     5690   \n",
       "4                              16                 1                     5690   \n",
       "\n",
       "   Yearly_avg_comment_on_travel_page  \\\n",
       "0                               64.0   \n",
       "1                               59.0   \n",
       "2                               84.0   \n",
       "3                               48.0   \n",
       "4                               80.0   \n",
       "\n",
       "   total_likes_on_outofstation_checkin_received  \\\n",
       "0                                        5142.0   \n",
       "1                                        2913.0   \n",
       "2                                        3074.0   \n",
       "3                                        9532.0   \n",
       "4                                        3926.0   \n",
       "\n",
       "   week_since_last_outstation_checkin  following_company_page  \\\n",
       "0                                   1                       0   \n",
       "1                                   1                       1   \n",
       "2                                   0                       0   \n",
       "3                                   0                       0   \n",
       "4                                   1                       1   \n",
       "\n",
       "   montly_avg_comment_on_company_page  working_flag  \\\n",
       "0                                33.0             1   \n",
       "1                                19.0             0   \n",
       "2                                23.0             0   \n",
       "3                                33.0             1   \n",
       "4                                33.0             1   \n",
       "\n",
       "   travelling_network_rating  Adult_flag  \\\n",
       "0                          1           1   \n",
       "1                          2           0   \n",
       "2                          2           0   \n",
       "3                          3           0   \n",
       "4                          3           0   \n",
       "\n",
       "   Daily_Avg_mins_spend_on_traveling_page  \n",
       "0                                    10.0  \n",
       "1                                     8.0  \n",
       "2                                     8.0  \n",
       "3                                    10.0  \n",
       "4                                    10.0  "
      ]
     },
     "execution_count": 79,
     "metadata": {},
     "output_type": "execute_result"
    }
   ],
   "source": [
    "laptop_user.head()"
   ]
  },
  {
   "cell_type": "markdown",
   "id": "fe479102",
   "metadata": {},
   "source": [
    "## Model Building"
   ]
  },
  {
   "cell_type": "code",
   "execution_count": 80,
   "id": "13ea3098",
   "metadata": {},
   "outputs": [],
   "source": [
    "mobile_user.drop([\"Unnamed: 0\",\"UserID\",\"preferred_device\"],axis=1,inplace=True)"
   ]
  },
  {
   "cell_type": "code",
   "execution_count": 81,
   "id": "1c8b4f4a",
   "metadata": {},
   "outputs": [],
   "source": [
    "laptop_user.drop([\"Unnamed: 0\",\"UserID\",\"preferred_device\"],axis=1,inplace=True)"
   ]
  },
  {
   "cell_type": "code",
   "execution_count": 82,
   "id": "6d9359e5",
   "metadata": {},
   "outputs": [],
   "source": [
    "from sklearn.model_selection import train_test_split"
   ]
  },
  {
   "cell_type": "code",
   "execution_count": 83,
   "id": "c96e7e3b",
   "metadata": {},
   "outputs": [],
   "source": [
    "### Splitting Mobile data"
   ]
  },
  {
   "cell_type": "code",
   "execution_count": 84,
   "id": "32ddb134",
   "metadata": {},
   "outputs": [],
   "source": [
    "x = mobile_user.drop(\"Taken_product\",axis=1)\n",
    "y = mobile_user.pop(\"Taken_product\")"
   ]
  },
  {
   "cell_type": "code",
   "execution_count": 85,
   "id": "e29dce72",
   "metadata": {},
   "outputs": [],
   "source": [
    "x_train_mobile,x_test_mobile,y_train_mobile,y_test_mobile = train_test_split(x,y,test_size=0.3,random_state=4)"
   ]
  },
  {
   "cell_type": "code",
   "execution_count": 86,
   "id": "cefcd23f",
   "metadata": {},
   "outputs": [],
   "source": [
    "### Splitting Laptop data"
   ]
  },
  {
   "cell_type": "code",
   "execution_count": 87,
   "id": "a5038a2d",
   "metadata": {},
   "outputs": [],
   "source": [
    "x_laptop = laptop_user.drop(\"Taken_product\",axis=1)\n",
    "y_laptop = laptop_user.pop(\"Taken_product\")"
   ]
  },
  {
   "cell_type": "code",
   "execution_count": 88,
   "id": "001a1101",
   "metadata": {},
   "outputs": [],
   "source": [
    "x_train_laptop,x_test_laptop,y_train_laptop,y_test_laptop = train_test_split(x_laptop,y_laptop,test_size=0.3,random_state=4)"
   ]
  },
  {
   "cell_type": "code",
   "execution_count": 89,
   "id": "21185d86",
   "metadata": {},
   "outputs": [
    {
     "data": {
      "text/plain": [
       "(775,)"
      ]
     },
     "execution_count": 89,
     "metadata": {},
     "output_type": "execute_result"
    }
   ],
   "source": [
    "y_train_laptop.shape"
   ]
  },
  {
   "cell_type": "markdown",
   "id": "00300f9d",
   "metadata": {},
   "source": [
    "### Random Forest Classifier"
   ]
  },
  {
   "cell_type": "code",
   "execution_count": 90,
   "id": "6a87c7e2",
   "metadata": {},
   "outputs": [],
   "source": [
    "## Random forest is the most commonly used model for binary classification. \n",
    "##The popularity of random forest is mainly because of less number of assumption and is not affected by outliers.\n",
    "\n",
    "from sklearn.ensemble import RandomForestClassifier"
   ]
  },
  {
   "cell_type": "code",
   "execution_count": 91,
   "id": "435fe2ed",
   "metadata": {},
   "outputs": [],
   "source": [
    "from sklearn.metrics import confusion_matrix, classification_report"
   ]
  },
  {
   "cell_type": "markdown",
   "id": "3a7398d8",
   "metadata": {},
   "source": [
    "#### Mobile"
   ]
  },
  {
   "cell_type": "code",
   "execution_count": 92,
   "id": "e41f8699",
   "metadata": {},
   "outputs": [],
   "source": [
    "RF_mobile = RandomForestClassifier()\n",
    "model_mobile = RF_mobile.fit(x_train_mobile,y_train_mobile)"
   ]
  },
  {
   "cell_type": "code",
   "execution_count": 93,
   "id": "78659370",
   "metadata": {},
   "outputs": [],
   "source": [
    "y_pred_test_mob = model_mobile.predict(x_test_mobile)"
   ]
  },
  {
   "cell_type": "code",
   "execution_count": 94,
   "id": "02ffe5af",
   "metadata": {},
   "outputs": [
    {
     "data": {
      "text/plain": [
       "<AxesSubplot:>"
      ]
     },
     "execution_count": 94,
     "metadata": {},
     "output_type": "execute_result"
    },
    {
     "data": {
      "image/png": "[encoded data removed]",
      "text/plain": [
       "<Figure size 504x360 with 2 Axes>"
      ]
     },
     "metadata": {
      "needs_background": "light"
     },
     "output_type": "display_data"
    }
   ],
   "source": [
    "cm=confusion_matrix(y_test_mobile, y_pred_test_mob, labels=[0, 1])\n",
    "\n",
    "df_cm = pd.DataFrame(cm, index = [i for i in [\"No\",\"Yes\"]],\n",
    "                  columns = [i for i in [\"No\",\"Yes\"]])\n",
    "plt.figure(figsize = (7,5))\n",
    "sns.heatmap(df_cm, annot=True ,fmt='g')"
   ]
  },
  {
   "cell_type": "code",
   "execution_count": 95,
   "id": "f130d650",
   "metadata": {},
   "outputs": [
    {
     "name": "stdout",
     "output_type": "stream",
     "text": [
      "              precision    recall  f1-score   support\n",
      "\n",
      "           0       0.97      1.00      0.99      2711\n",
      "           1       1.00      0.85      0.92       485\n",
      "\n",
      "    accuracy                           0.98      3196\n",
      "   macro avg       0.99      0.93      0.95      3196\n",
      "weighted avg       0.98      0.98      0.98      3196\n",
      "\n"
     ]
    }
   ],
   "source": [
    "print(classification_report(y_test_mobile, y_pred_test_mob))"
   ]
  },
  {
   "cell_type": "markdown",
   "id": "0e6ec20c",
   "metadata": {},
   "source": [
    "#### Laptop"
   ]
  },
  {
   "cell_type": "code",
   "execution_count": 96,
   "id": "be5c0282",
   "metadata": {},
   "outputs": [],
   "source": [
    "RF_laptop = RandomForestClassifier()\n",
    "model_laptop = RF_laptop.fit(x_train_laptop,y_train_laptop)"
   ]
  },
  {
   "cell_type": "code",
   "execution_count": 97,
   "id": "0fe534af",
   "metadata": {},
   "outputs": [],
   "source": [
    "y_pred_test_laptop = model_laptop.predict(x_test_laptop)"
   ]
  },
  {
   "cell_type": "code",
   "execution_count": 98,
   "id": "39d8f582",
   "metadata": {},
   "outputs": [
    {
     "data": {
      "text/plain": [
       "<AxesSubplot:>"
      ]
     },
     "execution_count": 98,
     "metadata": {},
     "output_type": "execute_result"
    },
    {
     "data": {
      "image/png": "[encoded data removed]",
      "text/plain": [
       "<Figure size 504x360 with 2 Axes>"
      ]
     },
     "metadata": {
      "needs_background": "light"
     },
     "output_type": "display_data"
    }
   ],
   "source": [
    "cm=confusion_matrix(y_test_laptop, y_pred_test_laptop, labels=[0, 1])\n",
    "\n",
    "df_cm = pd.DataFrame(cm, index = [i for i in [\"No\",\"Yes\"]],\n",
    "                  columns = [i for i in [\"No\",\"Yes\"]])\n",
    "plt.figure(figsize = (7,5))\n",
    "sns.heatmap(df_cm, annot=True ,fmt='g')"
   ]
  },
  {
   "cell_type": "code",
   "execution_count": 99,
   "id": "27a1f425",
   "metadata": {},
   "outputs": [
    {
     "name": "stdout",
     "output_type": "stream",
     "text": [
      "              precision    recall  f1-score   support\n",
      "\n",
      "           0       0.96      1.00      0.98       257\n",
      "           1       1.00      0.87      0.93        76\n",
      "\n",
      "    accuracy                           0.97       333\n",
      "   macro avg       0.98      0.93      0.96       333\n",
      "weighted avg       0.97      0.97      0.97       333\n",
      "\n"
     ]
    }
   ],
   "source": [
    "print(classification_report(y_test_laptop, y_pred_test_laptop))"
   ]
  },
  {
   "cell_type": "markdown",
   "id": "45acfc3d",
   "metadata": {},
   "source": [
    "### Naive Bayes"
   ]
  },
  {
   "cell_type": "code",
   "execution_count": 100,
   "id": "eb3f95ca",
   "metadata": {},
   "outputs": [],
   "source": [
    "from sklearn.naive_bayes import GaussianNB"
   ]
  },
  {
   "cell_type": "code",
   "execution_count": 101,
   "id": "c3f3e70a",
   "metadata": {},
   "outputs": [],
   "source": [
    "naive_bayes = GaussianNB()"
   ]
  },
  {
   "cell_type": "markdown",
   "id": "604efb3c",
   "metadata": {},
   "source": [
    "#### Mobile"
   ]
  },
  {
   "cell_type": "code",
   "execution_count": 102,
   "id": "831b977f",
   "metadata": {},
   "outputs": [],
   "source": [
    "model_mobile = naive_bayes.fit(x_train_mobile,y_train_mobile)"
   ]
  },
  {
   "cell_type": "code",
   "execution_count": 103,
   "id": "2bc2e59d",
   "metadata": {},
   "outputs": [],
   "source": [
    "y_pred_test_mob = model_mobile.predict(x_test_mobile)"
   ]
  },
  {
   "cell_type": "code",
   "execution_count": 104,
   "id": "49e450a8",
   "metadata": {},
   "outputs": [
    {
     "data": {
      "text/plain": [
       "<AxesSubplot:>"
      ]
     },
     "execution_count": 104,
     "metadata": {},
     "output_type": "execute_result"
    },
    {
     "data": {
      "image/png": "[encoded data removed]",
      "text/plain": [
       "<Figure size 504x360 with 2 Axes>"
      ]
     },
     "metadata": {
      "needs_background": "light"
     },
     "output_type": "display_data"
    }
   ],
   "source": [
    "cm=confusion_matrix(y_test_mobile, y_pred_test_mob, labels=[0, 1])\n",
    "\n",
    "df_cm = pd.DataFrame(cm, index = [i for i in [\"No\",\"Yes\"]],\n",
    "                  columns = [i for i in [\"No\",\"Yes\"]])\n",
    "plt.figure(figsize = (7,5))\n",
    "sns.heatmap(df_cm, annot=True ,fmt='g')"
   ]
  },
  {
   "cell_type": "code",
   "execution_count": 105,
   "id": "94c2f74c",
   "metadata": {},
   "outputs": [
    {
     "name": "stdout",
     "output_type": "stream",
     "text": [
      "              precision    recall  f1-score   support\n",
      "\n",
      "           0       0.87      0.99      0.92      2711\n",
      "           1       0.67      0.15      0.25       485\n",
      "\n",
      "    accuracy                           0.86      3196\n",
      "   macro avg       0.77      0.57      0.58      3196\n",
      "weighted avg       0.84      0.86      0.82      3196\n",
      "\n"
     ]
    }
   ],
   "source": [
    "print(classification_report(y_test_mobile, y_pred_test_mob))"
   ]
  },
  {
   "cell_type": "markdown",
   "id": "59de5523",
   "metadata": {},
   "source": [
    "#### Laptop"
   ]
  },
  {
   "cell_type": "code",
   "execution_count": 106,
   "id": "a8082718",
   "metadata": {},
   "outputs": [],
   "source": [
    "model_laptop = naive_bayes.fit(x_train_laptop,y_train_laptop)"
   ]
  },
  {
   "cell_type": "code",
   "execution_count": 107,
   "id": "7af17fd1",
   "metadata": {},
   "outputs": [],
   "source": [
    "y_pred_test_laptop = model_laptop.predict(x_test_laptop)"
   ]
  },
  {
   "cell_type": "code",
   "execution_count": 108,
   "id": "aed1425e",
   "metadata": {},
   "outputs": [
    {
     "data": {
      "text/plain": [
       "<AxesSubplot:>"
      ]
     },
     "execution_count": 108,
     "metadata": {},
     "output_type": "execute_result"
    },
    {
     "data": {
      "image/png": "[encoded data removed]",
      "text/plain": [
       "<Figure size 504x360 with 2 Axes>"
      ]
     },
     "metadata": {
      "needs_background": "light"
     },
     "output_type": "display_data"
    }
   ],
   "source": [
    "cm=confusion_matrix(y_test_laptop, y_pred_test_laptop, labels=[0, 1])\n",
    "\n",
    "df_cm = pd.DataFrame(cm, index = [i for i in [\"No\",\"Yes\"]],\n",
    "                  columns = [i for i in [\"No\",\"Yes\"]])\n",
    "plt.figure(figsize = (7,5))\n",
    "sns.heatmap(df_cm, annot=True ,fmt='g')"
   ]
  },
  {
   "cell_type": "code",
   "execution_count": 109,
   "id": "8ead191d",
   "metadata": {},
   "outputs": [
    {
     "name": "stdout",
     "output_type": "stream",
     "text": [
      "              precision    recall  f1-score   support\n",
      "\n",
      "           0       0.89      0.86      0.88       257\n",
      "           1       0.58      0.64      0.61        76\n",
      "\n",
      "    accuracy                           0.81       333\n",
      "   macro avg       0.73      0.75      0.74       333\n",
      "weighted avg       0.82      0.81      0.81       333\n",
      "\n"
     ]
    }
   ],
   "source": [
    "print(classification_report(y_test_laptop, y_pred_test_laptop))"
   ]
  },
  {
   "cell_type": "markdown",
   "id": "602b8732",
   "metadata": {},
   "source": [
    "### K-Nearest Neighbour"
   ]
  },
  {
   "cell_type": "code",
   "execution_count": 110,
   "id": "67f01a28",
   "metadata": {},
   "outputs": [],
   "source": [
    "from sklearn.neighbors import KNeighborsClassifier"
   ]
  },
  {
   "cell_type": "code",
   "execution_count": 111,
   "id": "16daea91",
   "metadata": {},
   "outputs": [],
   "source": [
    "from sklearn.preprocessing import StandardScaler"
   ]
  },
  {
   "cell_type": "markdown",
   "id": "fee17af0",
   "metadata": {},
   "source": [
    "#### Mobile"
   ]
  },
  {
   "cell_type": "code",
   "execution_count": 112,
   "id": "e3a614d9",
   "metadata": {},
   "outputs": [],
   "source": [
    "scaler = StandardScaler()\n",
    "x_train_mobile_scaled = scaler.fit_transform(x_train_mobile)\n",
    "x_test_mobile_scaled = scaler.fit_transform(x_test_mobile) "
   ]
  },
  {
   "cell_type": "code",
   "execution_count": 113,
   "id": "765b99f5",
   "metadata": {},
   "outputs": [],
   "source": [
    "KNN = KNeighborsClassifier(n_neighbors = 2)\n",
    "model_mobile = KNN.fit(x_train_mobile_scaled,y_train_mobile)"
   ]
  },
  {
   "cell_type": "code",
   "execution_count": 114,
   "id": "cf2bf6fb",
   "metadata": {},
   "outputs": [],
   "source": [
    "y_pred_test_mob = model_mobile.predict(x_test_mobile_scaled)"
   ]
  },
  {
   "cell_type": "code",
   "execution_count": 115,
   "id": "368204b2",
   "metadata": {},
   "outputs": [
    {
     "data": {
      "text/plain": [
       "<AxesSubplot:>"
      ]
     },
     "execution_count": 115,
     "metadata": {},
     "output_type": "execute_result"
    },
    {
     "data": {
      "image/png": "[encoded data removed]",
      "text/plain": [
       "<Figure size 504x360 with 2 Axes>"
      ]
     },
     "metadata": {
      "needs_background": "light"
     },
     "output_type": "display_data"
    }
   ],
   "source": [
    "cm=confusion_matrix(y_test_mobile, y_pred_test_mob, labels=[0, 1])\n",
    "\n",
    "df_cm = pd.DataFrame(cm, index = [i for i in [\"No\",\"Yes\"]],\n",
    "                  columns = [i for i in [\"No\",\"Yes\"]])\n",
    "plt.figure(figsize = (7,5))\n",
    "sns.heatmap(df_cm, annot=True ,fmt='g')"
   ]
  },
  {
   "cell_type": "code",
   "execution_count": 116,
   "id": "4a90437f",
   "metadata": {},
   "outputs": [
    {
     "name": "stdout",
     "output_type": "stream",
     "text": [
      "              precision    recall  f1-score   support\n",
      "\n",
      "           0       0.94      0.99      0.97      2711\n",
      "           1       0.95      0.66      0.78       485\n",
      "\n",
      "    accuracy                           0.94      3196\n",
      "   macro avg       0.95      0.83      0.88      3196\n",
      "weighted avg       0.94      0.94      0.94      3196\n",
      "\n"
     ]
    }
   ],
   "source": [
    "print(classification_report(y_test_mobile, y_pred_test_mob))"
   ]
  },
  {
   "cell_type": "markdown",
   "id": "a37367a1",
   "metadata": {},
   "source": [
    "#### laptop"
   ]
  },
  {
   "cell_type": "code",
   "execution_count": 117,
   "id": "764757ce",
   "metadata": {},
   "outputs": [],
   "source": [
    "scaler = StandardScaler()\n",
    "x_train_laptop_scaled = scaler.fit_transform(x_train_laptop)\n",
    "x_test_laptop_scaled = scaler.fit_transform(x_test_laptop)"
   ]
  },
  {
   "cell_type": "code",
   "execution_count": 118,
   "id": "c893879b",
   "metadata": {},
   "outputs": [],
   "source": [
    "model_laptop = KNN.fit(x_train_laptop_scaled,y_train_laptop)"
   ]
  },
  {
   "cell_type": "code",
   "execution_count": 119,
   "id": "41f89703",
   "metadata": {},
   "outputs": [],
   "source": [
    "y_pred_test_laptop = model_laptop.predict(x_test_laptop_scaled)"
   ]
  },
  {
   "cell_type": "code",
   "execution_count": 120,
   "id": "35f36909",
   "metadata": {},
   "outputs": [
    {
     "data": {
      "text/plain": [
       "<AxesSubplot:>"
      ]
     },
     "execution_count": 120,
     "metadata": {},
     "output_type": "execute_result"
    },
    {
     "data": {
      "image/png": "[encoded data removed]",
      "text/plain": [
       "<Figure size 504x360 with 2 Axes>"
      ]
     },
     "metadata": {
      "needs_background": "light"
     },
     "output_type": "display_data"
    }
   ],
   "source": [
    "cm=confusion_matrix(y_test_laptop, y_pred_test_laptop, labels=[0, 1])\n",
    "\n",
    "df_cm = pd.DataFrame(cm, index = [i for i in [\"No\",\"Yes\"]],\n",
    "                  columns = [i for i in [\"No\",\"Yes\"]])\n",
    "plt.figure(figsize = (7,5))\n",
    "sns.heatmap(df_cm, annot=True ,fmt='g')"
   ]
  },
  {
   "cell_type": "code",
   "execution_count": 121,
   "id": "83d05bb7",
   "metadata": {},
   "outputs": [
    {
     "name": "stdout",
     "output_type": "stream",
     "text": [
      "              precision    recall  f1-score   support\n",
      "\n",
      "           0       0.94      1.00      0.97       257\n",
      "           1       0.98      0.78      0.87        76\n",
      "\n",
      "    accuracy                           0.95       333\n",
      "   macro avg       0.96      0.89      0.92       333\n",
      "weighted avg       0.95      0.95      0.94       333\n",
      "\n"
     ]
    }
   ],
   "source": [
    "print(classification_report(y_test_laptop, y_pred_test_laptop))"
   ]
  },
  {
   "cell_type": "code",
   "execution_count": 123,
   "id": "2d7a77a8",
   "metadata": {},
   "outputs": [],
   "source": [
    "scores = []\n",
    "for k in range(1,50):\n",
    "    KNN = KNeighborsClassifier(n_neighbors = k)\n",
    "    KNN_model = KNN.fit(x_train_mobile_scaled,y_train_mobile)\n",
    "    scores.append(KNN_model.score(x_test_mobile_scaled,y_test_mobile))  ### Finding the best K value"
   ]
  },
  {
   "cell_type": "code",
   "execution_count": 124,
   "id": "2eb4a6b6",
   "metadata": {},
   "outputs": [
    {
     "data": {
      "text/plain": [
       "Text(0, 0.5, 'Accuracy score')"
      ]
     },
     "execution_count": 124,
     "metadata": {},
     "output_type": "execute_result"
    },
    {
     "data": {
      "image/png": "[encoded data removed]",
      "text/plain": [
       "<Figure size 864x576 with 1 Axes>"
      ]
     },
     "metadata": {
      "needs_background": "light"
     },
     "output_type": "display_data"
    }
   ],
   "source": [
    "plt.figure(figsize=(12,8))\n",
    "plt.plot(scores)\n",
    "plt.xlabel(\"Hyperparameter K\")\n",
    "plt.ylabel(\"Accuracy score\")"
   ]
  },
  {
   "cell_type": "markdown",
   "id": "9106f2ed",
   "metadata": {},
   "source": [
    "### Logistic Regression"
   ]
  },
  {
   "cell_type": "code",
   "execution_count": 125,
   "id": "2706dbab",
   "metadata": {},
   "outputs": [],
   "source": [
    "from sklearn.linear_model import LogisticRegression"
   ]
  },
  {
   "cell_type": "code",
   "execution_count": 126,
   "id": "73078e7f",
   "metadata": {},
   "outputs": [],
   "source": [
    "LR = LogisticRegression()"
   ]
  },
  {
   "cell_type": "markdown",
   "id": "d4c599f5",
   "metadata": {},
   "source": [
    "#### Mobile"
   ]
  },
  {
   "cell_type": "code",
   "execution_count": 127,
   "id": "14a95df2",
   "metadata": {},
   "outputs": [],
   "source": [
    "model_mobile = LR.fit(x_train_mobile_scaled,y_train_mobile)"
   ]
  },
  {
   "cell_type": "code",
   "execution_count": 128,
   "id": "a0566210",
   "metadata": {},
   "outputs": [],
   "source": [
    "y_pred_test_mob = model_mobile.predict(x_test_mobile_scaled)"
   ]
  },
  {
   "cell_type": "code",
   "execution_count": 129,
   "id": "904d8c8d",
   "metadata": {},
   "outputs": [
    {
     "data": {
      "text/plain": [
       "<AxesSubplot:>"
      ]
     },
     "execution_count": 129,
     "metadata": {},
     "output_type": "execute_result"
    },
    {
     "data": {
      "image/png": "[encoded data removed]",
      "text/plain": [
       "<Figure size 504x360 with 2 Axes>"
      ]
     },
     "metadata": {
      "needs_background": "light"
     },
     "output_type": "display_data"
    }
   ],
   "source": [
    "cm=confusion_matrix(y_test_mobile, y_pred_test_mob, labels=[0, 1])\n",
    "\n",
    "df_cm = pd.DataFrame(cm, index = [i for i in [\"No\",\"Yes\"]],\n",
    "                  columns = [i for i in [\"No\",\"Yes\"]])\n",
    "plt.figure(figsize = (7,5))\n",
    "sns.heatmap(df_cm, annot=True ,fmt='g')"
   ]
  },
  {
   "cell_type": "code",
   "execution_count": 130,
   "id": "e734017b",
   "metadata": {},
   "outputs": [
    {
     "name": "stdout",
     "output_type": "stream",
     "text": [
      "              precision    recall  f1-score   support\n",
      "\n",
      "           0       0.87      0.98      0.92      2711\n",
      "           1       0.67      0.18      0.28       485\n",
      "\n",
      "    accuracy                           0.86      3196\n",
      "   macro avg       0.77      0.58      0.60      3196\n",
      "weighted avg       0.84      0.86      0.83      3196\n",
      "\n"
     ]
    }
   ],
   "source": [
    "print(classification_report(y_test_mobile, y_pred_test_mob))"
   ]
  },
  {
   "cell_type": "markdown",
   "id": "46b6c9f1",
   "metadata": {},
   "source": [
    "#### Laptop"
   ]
  },
  {
   "cell_type": "code",
   "execution_count": 131,
   "id": "b0ffaf17",
   "metadata": {},
   "outputs": [],
   "source": [
    "model_laptop = LR.fit(x_train_laptop_scaled,y_train_laptop)"
   ]
  },
  {
   "cell_type": "code",
   "execution_count": 132,
   "id": "f711cdf2",
   "metadata": {},
   "outputs": [],
   "source": [
    "y_pred_test_laptop = model_laptop.predict(x_test_laptop_scaled)"
   ]
  },
  {
   "cell_type": "code",
   "execution_count": 133,
   "id": "b236c5cd",
   "metadata": {},
   "outputs": [
    {
     "data": {
      "text/plain": [
       "<AxesSubplot:>"
      ]
     },
     "execution_count": 133,
     "metadata": {},
     "output_type": "execute_result"
    },
    {
     "data": {
      "image/png": "[encoded data removed]",
      "text/plain": [
       "<Figure size 504x360 with 2 Axes>"
      ]
     },
     "metadata": {
      "needs_background": "light"
     },
     "output_type": "display_data"
    }
   ],
   "source": [
    "cm=confusion_matrix(y_test_laptop, y_pred_test_laptop, labels=[0, 1])\n",
    "\n",
    "df_cm = pd.DataFrame(cm, index = [i for i in [\"No\",\"Yes\"]],\n",
    "                  columns = [i for i in [\"No\",\"Yes\"]])\n",
    "plt.figure(figsize = (7,5))\n",
    "sns.heatmap(df_cm, annot=True ,fmt='g')"
   ]
  },
  {
   "cell_type": "code",
   "execution_count": 134,
   "id": "08f0c73f",
   "metadata": {},
   "outputs": [
    {
     "name": "stdout",
     "output_type": "stream",
     "text": [
      "              precision    recall  f1-score   support\n",
      "\n",
      "           0       0.85      0.95      0.90       257\n",
      "           1       0.72      0.45      0.55        76\n",
      "\n",
      "    accuracy                           0.83       333\n",
      "   macro avg       0.79      0.70      0.73       333\n",
      "weighted avg       0.82      0.83      0.82       333\n",
      "\n"
     ]
    }
   ],
   "source": [
    "print(classification_report(y_test_laptop, y_pred_test_laptop))"
   ]
  },
  {
   "cell_type": "markdown",
   "id": "07974586",
   "metadata": {},
   "source": [
    "## End"
   ]
  },
  {
   "cell_type": "code",
   "execution_count": null,
   "id": "4efe5405",
   "metadata": {},
   "outputs": [],
   "source": []
  }
 ],
 "metadata": {
  "kernelspec": {
   "display_name": "Python 3 (ipykernel)",
   "language": "python",
   "name": "python3"
  },
  "language_info": {
   "codemirror_mode": {
    "name": "ipython",
    "version": 3
   },
   "file_extension": ".py",
   "mimetype": "text/x-python",
   "name": "python",
   "nbconvert_exporter": "python",
   "pygments_lexer": "ipython3",
   "version": "3.9.12"
  }
 },
 "nbformat": 4,
 "nbformat_minor": 5
}
